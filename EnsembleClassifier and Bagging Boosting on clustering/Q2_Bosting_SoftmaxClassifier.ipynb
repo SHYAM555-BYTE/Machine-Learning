{
 "cells": [
  {
   "cell_type": "code",
   "execution_count": 17,
   "id": "198fdec9",
   "metadata": {},
   "outputs": [],
   "source": [
    "import numpy as np\n",
    "from numpy import loadtxt\n",
    "import pandas as pd\n",
    "import csv\n",
    "import math\n",
    "import warnings\n",
    "warnings.filterwarnings('ignore')"
   ]
  },
  {
   "cell_type": "code",
   "execution_count": 18,
   "id": "c6dd7e68",
   "metadata": {},
   "outputs": [],
   "source": [
    "#Importing training data as X_train and Y_train\n",
    "file = open('dataset.csv')\n",
    "csvreader = csv.reader(file, delimiter = \",\")\n",
    "data = []\n",
    "for row in csvreader:\n",
    "    data.append(row)\n",
    "\n",
    "train_data = []\n",
    "for i in range(0 , len(data)):\n",
    "    col= []\n",
    "    for j in range(0,len(data[i])):\n",
    "        if j==len(data[i])-1:\n",
    "            col.append(data[i][j])\n",
    "        else:\n",
    "            col.append(data[i][j])\n",
    "    train_data.append(col)\n",
    "file.close()\n",
    "X_train = []\n",
    "Y_train = []\n",
    "for i in range(len(train_data)):\n",
    "    cols = []\n",
    "    for j in range(0,len(train_data[i])):\n",
    "        if(j==len(train_data[i])-1):\n",
    "            Y_train.append(train_data[i][j])\n",
    "        else:\n",
    "            cols.append(train_data[i][j])\n",
    "    X_train.append(cols)   \n",
    "for i in range(0,len(X_train)):\n",
    "    for j in range(0,len(X_train[i])):\n",
    "        X_train[i][j]=float(X_train[i][j])\n",
    "X_train = np.array(X_train)\n",
    "Y_train = np.array(Y_train)\n",
    "\n",
    "X_train_df = pd.DataFrame(X_train, columns = ['Height','Weight','Diameter','Color'])\n",
    "Y_train_df = pd.DataFrame(Y_train,columns = ['Material'])"
   ]
  },
  {
   "cell_type": "code",
   "execution_count": 19,
   "id": "7c9266e6",
   "metadata": {},
   "outputs": [],
   "source": [
    "#Taking out test dataset as X_test and Y_test\n",
    "test_data = []\n",
    "c = 0\n",
    "p = 0\n",
    "m = 0\n",
    "k = 0\n",
    "x = []\n",
    "for i in range(0,len(train_data)):\n",
    "    if(train_data[i][4]==' Ceramic' and c<6):\n",
    "        x.append(i)\n",
    "        c=c+1\n",
    "        test_data.append(train_data[i])\n",
    "    if(train_data[i][4]==' Plastic' and p<6):\n",
    "        x.append(i)\n",
    "        p=p+1\n",
    "        test_data.append(train_data[i])\n",
    "    if(train_data[i][4]==' Metal' and m<6):\n",
    "        x.append(i)\n",
    "        m=m+1\n",
    "        test_data.append(train_data[i])\n",
    "    if(p>=6 and c>=6 and m>=6):\n",
    "            train_data.append(train_data[i])\n",
    "test_df = pd.DataFrame(data = test_data)\n",
    "X_test = test_df.drop([4],axis = 'columns')\n",
    "Y_test = test_df[4]\n",
    "X_test = np.array(X_test).astype(np.float)\n",
    "Y_test = np.array(Y_test)\n"
   ]
  },
  {
   "cell_type": "code",
   "execution_count": 20,
   "id": "97e8f69c",
   "metadata": {},
   "outputs": [],
   "source": [
    "#Deleting the Test Data set form the training set\n",
    "X_train_df= X_train_df.drop(X_train_df.index[x])\n",
    "Y_train_df = Y_train_df.drop(Y_train_df.index[x])\n"
   ]
  },
  {
   "cell_type": "code",
   "execution_count": 21,
   "id": "f2575184",
   "metadata": {},
   "outputs": [],
   "source": [
    "X_train = np.array(X_train_df).astype(np.float)\n",
    "Y_train  = np.array(Y_train_df)"
   ]
  },
  {
   "cell_type": "code",
   "execution_count": 22,
   "id": "a0f1ed77",
   "metadata": {},
   "outputs": [],
   "source": [
    "#Intializing the functions for the softmax\n",
    "def initialize_weights(X,Y):\n",
    "    z = np.ones((len(X[1]),np.max(Y)+1))\n",
    "    return z\n",
    "\n",
    "def set_labels_int(Y):\n",
    "    for i in range(0,len(Y)):\n",
    "        if Y[i] ==\" Metal\":\n",
    "            Y[i]=0\n",
    "        if Y[i] == \" Plastic\":\n",
    "            Y[i]=1\n",
    "        if Y[i] == \" Ceramic\":\n",
    "            Y[i]=2\n",
    "    return Y\n",
    "\n",
    "def reset_labels(Y):\n",
    "    y=[]\n",
    "    for i in range(0,len(Y)):\n",
    "        if Y[i] == 0:\n",
    "            y.append(\" Metal\")\n",
    "        if Y[i] == 1:\n",
    "            y.append(\" Plastic\")\n",
    "        if Y[i] == 2:\n",
    "            y.append(\" Ceramic\")\n",
    "    return y\n",
    "\n",
    "def set_one_hot(Y_train): \n",
    "    y_train=[]\n",
    "    for i in range(0,len(Y_train)):\n",
    "        arr = []\n",
    "        for j in range(0,np.max(Y_train)+1):\n",
    "            if Y_train[i] == j:\n",
    "                arr.append(1)\n",
    "            else:\n",
    "                arr.append(0)\n",
    "        y_train.append(arr)\n",
    "    return y_train\n",
    "\n",
    "def training(x,y,l_r,epochs):\n",
    "    w = np.ones((len(x[1]),np.max(y)+1))\n",
    "    y = set_one_hot(y)\n",
    "    for i in range(0,epochs):\n",
    "        z = np.dot(x,w)\n",
    "        z = np.exp(z)\n",
    "        v = np.sum(z,axis=1)\n",
    "        sm = []\n",
    "        for i in range(0,len(z)):\n",
    "            cols = []\n",
    "            for j in range(0,len(z[i])):\n",
    "                cols.append(z[i][j]/v[i])\n",
    "            sm.append(cols)\n",
    "        sm = np.array(sm)\n",
    "        sm = y - sm\n",
    "        sm = np.dot(x.T,sm)\n",
    "        w = w + l_r*sm\n",
    "    return w\n",
    "def predict(X_test,tw):\n",
    "    re = np.dot(X_test,tw)\n",
    "    re = np.exp(re)\n",
    "    re = re / np.sum(re, axis=1, keepdims=True)\n",
    "    return np.argmax(re,axis=1)\n",
    "def accuracy(y_pred,y):\n",
    "    c=0\n",
    "    for i in range(0,len(y)):\n",
    "        if y_pred[i]==y[i]:\n",
    "            c=c+1\n",
    "    c = (c/len(y_pred))*100\n",
    "    return c\n",
    "Y_train = set_labels_int(Y_train).astype(np.int)"
   ]
  },
  {
   "cell_type": "markdown",
   "id": "402ca786",
   "metadata": {},
   "source": [
    "# Accuracy without Boosting"
   ]
  },
  {
   "cell_type": "code",
   "execution_count": 23,
   "id": "f412c7e6",
   "metadata": {},
   "outputs": [
    {
     "name": "stdout",
     "output_type": "stream",
     "text": [
      "Predicted_output\n",
      "[2 0 2 2 1 1 1 1 1 1 1 1 1 1 1 1 2 2]\n",
      "Desired_output \n",
      "[2 0 2 2 1 1 1 1 1 1 2 0 0 0 0 0 2 2]\n",
      "Accuracy\n",
      "66.66666666666666\n"
     ]
    }
   ],
   "source": [
    "y = set_labels_int(Y_train).astype(np.int)\n",
    "tw = training(X_train,y,0.1,10000)\n",
    "y_pred = predict(X_test,tw)\n",
    "z = set_labels_int(Y_test).astype(np.int)\n",
    "print(\"Predicted_output\")\n",
    "print(y_pred)\n",
    "print(\"Desired_output \")\n",
    "print(z)\n",
    "print(\"Accuracy\")\n",
    "a = accuracy(y_pred,Y_test)\n",
    "print(a)"
   ]
  },
  {
   "cell_type": "code",
   "execution_count": 50,
   "id": "f09ed7e5",
   "metadata": {},
   "outputs": [],
   "source": [
    "def checking_outputs(y,y_pred):\n",
    "    x = []\n",
    "    for i in range(0,len(y)):\n",
    "        if y[i] != y_pred[i]:\n",
    "            x.append(i)\n",
    "    return x   \n",
    "\n",
    "def model_weight(mc,w):\n",
    "    error = 0\n",
    "    for mcs in mc:\n",
    "        error = w[mcs]+(error)\n",
    "    error = ((1-error)/(error+0.0001))\n",
    "    error = 0.5*np.log(error)\n",
    "    return error\n",
    "\n",
    "def updated_weight(mc,alpha,w):\n",
    "    for i in range(0,len(w)):\n",
    "        if i in mc:\n",
    "            w[i] = w[i]*np.exp(alpha)\n",
    "        else:\n",
    "            w[i] = w[i]*np.exp(-alpha)\n",
    "    nw = w/np.sum(w)\n",
    "    return nw \n",
    "\n",
    "def new_dataset(nw,mc):\n",
    "    new_indices = []\n",
    "    ug = []\n",
    "    lg = []\n",
    "    c=0;\n",
    "    for i in range(0,len(nw)):\n",
    "        ug.append(c)\n",
    "        c=c+nw[i]\n",
    "        lg.append(c)\n",
    "    for i in range(0,len(nw)):\n",
    "        a = np.random.random()\n",
    "        for i in range(0,len(ug)):\n",
    "            if a>ug[i] and a<lg[i]:\n",
    "                new_indices.append(i)\n",
    "    new_indices = np.array(new_indices)\n",
    "    return new_indices\n"
   ]
  },
  {
   "cell_type": "markdown",
   "id": "f9129867",
   "metadata": {},
   "source": [
    "# Implementing the Boosting Function "
   ]
  },
  {
   "cell_type": "code",
   "execution_count": 51,
   "id": "a395b5fd",
   "metadata": {},
   "outputs": [],
   "source": [
    "def boosting(itr,X,Y):\n",
    "    weights = []\n",
    "    alphas = []\n",
    "    w = np.ones(len(X))\n",
    "    w = w/np.shape(X)[0]\n",
    "    for i in range(0,itr):\n",
    "        tw = training(X,Y,0.1,10000)\n",
    "        weights.append(tw)\n",
    "        y_pred = predict(X,tw)\n",
    "        mc = checking_outputs(y_pred,Y)\n",
    "        alpha = model_weight(mc,w)\n",
    "        alphas.append(alpha) \n",
    "        nw = updated_weight(mc,alpha,w)\n",
    "        new_indices = new_dataset(nw,mc)\n",
    "        new_X = []\n",
    "        new_Y = []\n",
    "        for k in range(0,len(new_indices)):\n",
    "            new_X.append(X[new_indices[k]])\n",
    "            new_Y.append(Y[new_indices[k]])\n",
    "            \n",
    "        new_X = np.array(new_X)\n",
    "        new_Y = np.array(new_Y)\n",
    "        X = new_X\n",
    "        Y = new_Y\n",
    "    return weights,alphas\n"
   ]
  },
  {
   "cell_type": "markdown",
   "id": "31189431",
   "metadata": {},
   "source": [
    "# Boosting for 10 iterations"
   ]
  },
  {
   "cell_type": "code",
   "execution_count": 52,
   "id": "ee766e6c",
   "metadata": {},
   "outputs": [
    {
     "name": "stdout",
     "output_type": "stream",
     "text": [
      "[array([[-125.49636826,  352.18439792, -223.68802966],\n",
      "       [ -14.09360874,  388.24042111, -371.14681237],\n",
      "       [  49.02418849, -164.36763404,  118.34344555],\n",
      "       [   1.73547038,   -2.52373026,    3.78825988]]), array([[ -73.39259294,  375.3165754 , -298.92398246],\n",
      "       [  33.32618942,  388.74137377, -419.0675632 ],\n",
      "       [  -1.39774916, -150.97015497,  155.36790413],\n",
      "       [  -3.93353366,   -0.83499475,    7.76852841]]), array([[ -37.86238091,  299.12848189, -258.26610098],\n",
      "       [ 160.70744019,  158.55889759, -316.26633778],\n",
      "       [ -63.32167901,  -82.35338194,  148.67506095],\n",
      "       [  -2.88562344,   -1.31696125,    7.20258468]]), array([[-1.94488962e+01,  2.29774935e+02, -2.07326039e+02],\n",
      "       [ 1.37535556e+02,  9.60803085e+01, -2.30615865e+02],\n",
      "       [-5.02231858e+01, -6.79749304e+01,  1.21198116e+02],\n",
      "       [ 5.10757802e+00,  1.23649572e-01, -2.23122759e+00]]), array([[  36.83469493,  141.08611424, -174.92080917],\n",
      "       [ 267.35542367,   43.31636178, -307.67178545],\n",
      "       [  37.24380272,  -51.62843034,   17.38462763],\n",
      "       [ -16.01011565,    0.94655458,   18.06356108]]), array([[-190.13792529,  317.85948518, -124.72155988],\n",
      "       [ 151.83359473,  -19.86318772, -128.97040701],\n",
      "       [  20.25202447, -148.8875737 ,  131.63554922],\n",
      "       [   0.51707337,    7.59718286,   -5.11425623]]), array([[-186.72749637,  319.7410865 , -130.01359012],\n",
      "       [  91.21911857,  -78.5492624 ,   -9.66985618],\n",
      "       [  -2.12363435,  -69.01961227,   74.14324662],\n",
      "       [  11.40974169,    4.61777688,  -13.02751857]]), array([[ -20.13620767,  237.65922631, -214.52301864],\n",
      "       [  82.8960558 ,  -94.05484573,   14.15878993],\n",
      "       [  60.15439539,  -88.09048556,   30.93609017],\n",
      "       [  -9.35741048,    4.14568726,    8.21172322]]), array([[ -49.83861819,  105.56642086,  -52.72780267],\n",
      "       [  83.34227396,  -71.88829459,   -8.45397937],\n",
      "       [  73.10305569, -122.28204547,   52.17898978],\n",
      "       [   9.23392975,   10.64744327,  -16.88137302]]), array([[ 1.05779486e+02,  7.21167687e-01, -1.03500654e+02],\n",
      "       [ 3.04834799e+01,  7.47337644e-01, -2.82308175e+01],\n",
      "       [-4.27443817e+01, -6.50396544e-03,  4.57508856e+01],\n",
      "       [-9.29580035e+00, -9.29938093e+00,  2.15951813e+01]])]\n",
      "[0.7699392673877049, 0.6568159507485206, 0.35763136861385003, 0.7487161569204449, 0.30480716821981463, 0.4617650196083707, 0.9796077322706398, 0.844896204982692, 1.1168204366685983, 0.9586256088555001]\n"
     ]
    }
   ],
   "source": [
    "we,alp = boosting(10,X_train,Y_train) \n",
    "print(we)\n",
    "print(alp)"
   ]
  },
  {
   "cell_type": "code",
   "execution_count": 53,
   "id": "88e48ed5",
   "metadata": {},
   "outputs": [
    {
     "name": "stdout",
     "output_type": "stream",
     "text": [
      "Every classifier prediction\n",
      "[array([2, 0, 2, 2, 1, 1, 1, 1, 1, 1, 1, 1, 1, 1, 1, 1, 2, 2]), array([2, 1, 2, 2, 1, 1, 1, 1, 1, 1, 1, 1, 1, 1, 1, 1, 2, 2]), array([2, 2, 2, 2, 1, 1, 1, 1, 1, 1, 1, 1, 2, 2, 2, 2, 2, 2]), array([2, 0, 2, 2, 1, 1, 1, 0, 1, 1, 1, 0, 0, 0, 0, 0, 2, 0]), array([2, 2, 2, 2, 0, 0, 0, 2, 0, 2, 2, 2, 2, 2, 2, 2, 2, 2]), array([2, 1, 2, 2, 0, 2, 0, 1, 1, 1, 1, 1, 1, 1, 1, 1, 2, 1]), array([0, 0, 0, 0, 0, 1, 0, 0, 1, 0, 1, 0, 0, 0, 0, 0, 0, 0]), array([2, 2, 2, 2, 2, 0, 2, 2, 2, 2, 1, 2, 2, 2, 2, 2, 2, 2]), array([0, 0, 0, 0, 0, 0, 0, 0, 0, 0, 0, 0, 0, 0, 0, 0, 0, 0]), array([2, 2, 2, 2, 2, 2, 2, 2, 2, 2, 2, 2, 2, 2, 2, 2, 2, 2])]\n",
      "Final Prediction after multiplying with alpha and applying sign function\n",
      "[1. 1. 1. 1. 1. 1. 1. 1. 1. 1. 1. 1. 1. 1. 1. 1. 1. 1.]\n"
     ]
    }
   ],
   "source": [
    "y_pred = []\n",
    "for i in range(0,len(we)):\n",
    "    b = predict(X_test,we[i])\n",
    "    y_pred.append(b)\n",
    "h=[]\n",
    "for i in range(0,len(alp)):\n",
    "    h.append(alp[i]*y_pred[i])\n",
    "h = np.sum(h,axis=0)\n",
    "h=np.sign(h)\n",
    "a_10 = accuracy(h,Y_test)\n",
    "print(\"Every classifier prediction\")\n",
    "print(y_pred)\n",
    "print(\"Final Prediction after multiplying with alpha and applying sign function\")\n",
    "print(h)\n"
   ]
  },
  {
   "cell_type": "markdown",
   "id": "60dd7594",
   "metadata": {},
   "source": [
    "# Boosting for 25"
   ]
  },
  {
   "cell_type": "code",
   "execution_count": 28,
   "id": "3ee64acc",
   "metadata": {},
   "outputs": [],
   "source": [
    "we,alp = boosting(25,X_train,Y_train) "
   ]
  },
  {
   "cell_type": "code",
   "execution_count": 29,
   "id": "3bb0042e",
   "metadata": {},
   "outputs": [
    {
     "name": "stdout",
     "output_type": "stream",
     "text": [
      "Every classifier prediction\n",
      "[array([2, 0, 2, 2, 1, 1, 1, 1, 1, 1, 1, 1, 1, 1, 1, 1, 2, 2]), array([0, 0, 0, 0, 1, 1, 0, 0, 1, 0, 1, 0, 0, 0, 0, 0, 0, 0]), array([2, 2, 2, 2, 1, 1, 0, 0, 1, 2, 0, 2, 2, 2, 2, 2, 2, 2]), array([0, 0, 0, 0, 1, 1, 1, 1, 1, 1, 1, 0, 0, 0, 0, 0, 0, 0]), array([2, 2, 2, 2, 1, 1, 1, 2, 1, 2, 1, 2, 2, 2, 2, 2, 2, 2]), array([2, 1, 2, 2, 1, 1, 1, 1, 1, 1, 1, 1, 1, 1, 1, 1, 2, 1]), array([2, 0, 0, 0, 0, 0, 0, 0, 0, 0, 0, 0, 0, 0, 0, 0, 2, 0]), array([2, 1, 2, 2, 1, 1, 1, 1, 1, 1, 1, 1, 1, 1, 1, 1, 2, 2]), array([0, 0, 0, 0, 1, 1, 1, 0, 1, 0, 0, 0, 0, 0, 0, 0, 0, 0]), array([2, 1, 1, 2, 1, 1, 1, 1, 1, 1, 1, 1, 1, 1, 1, 1, 1, 1]), array([2, 2, 2, 2, 1, 1, 1, 1, 1, 1, 1, 2, 2, 2, 2, 2, 2, 2]), array([2, 0, 0, 2, 1, 1, 0, 0, 0, 0, 0, 0, 0, 0, 0, 0, 2, 0]), array([2, 2, 2, 2, 1, 1, 1, 2, 1, 2, 2, 2, 2, 2, 2, 2, 2, 2]), array([0, 0, 0, 0, 1, 1, 1, 1, 1, 1, 0, 0, 0, 0, 0, 0, 0, 0]), array([0, 0, 0, 0, 1, 1, 1, 0, 1, 0, 0, 0, 0, 0, 0, 0, 0, 0]), array([0, 0, 0, 0, 1, 1, 1, 0, 1, 0, 0, 0, 0, 0, 0, 0, 0, 0]), array([2, 1, 2, 2, 1, 1, 1, 1, 1, 1, 1, 2, 2, 2, 2, 2, 2, 2]), array([0, 1, 0, 0, 1, 1, 1, 1, 1, 1, 1, 1, 1, 0, 1, 0, 0, 0]), array([2, 2, 2, 2, 1, 1, 1, 2, 1, 2, 2, 2, 2, 2, 2, 2, 2, 2]), array([0, 1, 0, 0, 0, 0, 0, 1, 1, 1, 1, 1, 1, 1, 1, 1, 0, 1]), array([2, 2, 2, 2, 2, 2, 2, 2, 2, 2, 2, 2, 2, 2, 2, 2, 2, 2]), array([2, 2, 2, 2, 2, 2, 2, 2, 2, 2, 2, 2, 2, 2, 2, 2, 2, 2]), array([0, 2, 0, 0, 1, 1, 1, 1, 1, 1, 0, 2, 2, 2, 2, 2, 0, 0]), array([2, 0, 0, 2, 2, 2, 2, 2, 2, 0, 0, 0, 0, 0, 0, 0, 2, 0]), array([1, 0, 0, 1, 1, 1, 1, 0, 1, 0, 0, 0, 0, 0, 0, 0, 1, 0])]\n",
      "Final Prediction after multiplying with alpha and applying sign function\n",
      "[1. 1. 1. 1. 1. 1. 1. 1. 1. 1. 1. 1. 1. 1. 1. 1. 1. 1.]\n"
     ]
    }
   ],
   "source": [
    "y_pred = []\n",
    "for i in range(0,len(we)):\n",
    "    b = predict(X_test,we[i])\n",
    "    y_pred.append(b)\n",
    "h=[]\n",
    "for i in range(0,len(alp)):\n",
    "    h.append(alp[i]*y_pred[i])\n",
    "h = np.sum(h,axis=0)\n",
    "h=np.sign(h)\n",
    "a_25 = accuracy(h,Y_test)\n",
    "print(\"Every classifier prediction\")\n",
    "print(y_pred)\n",
    "print(\"Final Prediction after multiplying with alpha and applying sign function\")\n",
    "print(h)"
   ]
  },
  {
   "cell_type": "markdown",
   "id": "a0f90037",
   "metadata": {},
   "source": [
    "# Boosting for 50"
   ]
  },
  {
   "cell_type": "code",
   "execution_count": 30,
   "id": "2f24538d",
   "metadata": {},
   "outputs": [],
   "source": [
    "we,alp = boosting(50,X_train,Y_train) "
   ]
  },
  {
   "cell_type": "code",
   "execution_count": 16,
   "id": "46331906",
   "metadata": {},
   "outputs": [
    {
     "name": "stdout",
     "output_type": "stream",
     "text": [
      "Every classifier prediction\n",
      "[array([2, 0, 2, 2, 1, 1, 1, 1, 1, 1, 1, 1, 1, 1, 1, 1, 2, 2]), array([2, 1, 2, 2, 1, 1, 1, 1, 1, 1, 1, 1, 1, 1, 1, 1, 2, 1]), array([2, 1, 2, 2, 1, 1, 1, 1, 1, 1, 1, 1, 1, 2, 1, 2, 2, 2]), array([0, 0, 0, 0, 1, 1, 1, 0, 1, 0, 0, 0, 0, 0, 0, 0, 0, 0]), array([2, 1, 2, 2, 1, 1, 1, 1, 1, 1, 1, 0, 0, 0, 0, 0, 2, 0]), array([2, 0, 2, 2, 0, 0, 0, 0, 0, 0, 0, 0, 0, 0, 0, 0, 2, 0]), array([2, 0, 2, 2, 1, 1, 1, 1, 1, 1, 1, 0, 0, 0, 0, 0, 2, 0]), array([2, 0, 2, 2, 0, 1, 0, 0, 1, 0, 1, 0, 0, 0, 0, 0, 2, 0]), array([2, 1, 2, 2, 1, 1, 1, 1, 1, 1, 1, 1, 1, 1, 1, 1, 2, 2]), array([2, 2, 2, 2, 0, 0, 0, 2, 0, 2, 2, 2, 2, 2, 2, 2, 2, 2]), array([0, 0, 0, 2, 0, 0, 0, 0, 0, 0, 0, 1, 0, 1, 1, 1, 0, 1]), array([2, 0, 2, 2, 0, 0, 0, 0, 0, 0, 0, 0, 0, 0, 0, 0, 2, 0]), array([2, 2, 2, 2, 0, 1, 1, 0, 1, 1, 1, 2, 2, 2, 2, 2, 2, 2]), array([2, 0, 2, 2, 1, 1, 0, 0, 0, 0, 0, 0, 0, 0, 0, 0, 2, 0]), array([1, 0, 0, 1, 0, 1, 0, 0, 0, 0, 0, 2, 2, 2, 2, 2, 1, 2]), array([0, 0, 0, 0, 0, 0, 0, 0, 0, 0, 0, 2, 2, 2, 2, 2, 0, 2]), array([0, 2, 2, 0, 0, 0, 0, 2, 0, 2, 2, 2, 2, 2, 2, 2, 0, 2]), array([0, 0, 0, 0, 0, 0, 0, 0, 0, 0, 0, 0, 0, 0, 0, 2, 0, 0]), array([0, 0, 0, 0, 0, 0, 0, 0, 0, 0, 0, 0, 0, 0, 0, 0, 0, 0]), array([0, 0, 0, 0, 0, 0, 0, 0, 0, 0, 0, 0, 0, 0, 0, 0, 0, 0]), array([0, 0, 0, 0, 0, 0, 0, 0, 0, 0, 0, 0, 0, 0, 0, 0, 0, 0]), array([0, 0, 0, 0, 0, 0, 0, 0, 0, 0, 0, 0, 0, 0, 0, 0, 0, 0]), array([0, 0, 0, 0, 0, 0, 0, 0, 0, 0, 0, 0, 0, 0, 0, 0, 0, 0]), array([0, 0, 0, 0, 0, 0, 0, 0, 0, 0, 0, 0, 0, 0, 0, 0, 0, 0]), array([0, 0, 0, 0, 0, 0, 0, 0, 0, 0, 0, 0, 0, 0, 0, 0, 0, 0]), array([0, 0, 0, 0, 0, 0, 0, 0, 0, 0, 0, 0, 0, 0, 0, 0, 0, 0]), array([0, 0, 0, 0, 0, 0, 0, 0, 0, 0, 0, 0, 0, 0, 0, 0, 0, 0]), array([0, 0, 0, 0, 0, 0, 0, 0, 0, 0, 0, 0, 0, 0, 0, 0, 0, 0]), array([0, 0, 0, 0, 0, 0, 0, 0, 0, 0, 0, 0, 0, 0, 0, 0, 0, 0]), array([0, 0, 0, 0, 0, 0, 0, 0, 0, 0, 0, 0, 0, 0, 0, 0, 0, 0]), array([0, 0, 0, 0, 0, 0, 0, 0, 0, 0, 0, 0, 0, 0, 0, 0, 0, 0]), array([0, 0, 0, 0, 0, 0, 0, 0, 0, 0, 0, 0, 0, 0, 0, 0, 0, 0]), array([0, 0, 0, 0, 0, 0, 0, 0, 0, 0, 0, 0, 0, 0, 0, 0, 0, 0]), array([0, 0, 0, 0, 0, 0, 0, 0, 0, 0, 0, 0, 0, 0, 0, 0, 0, 0]), array([0, 0, 0, 0, 0, 0, 0, 0, 0, 0, 0, 0, 0, 0, 0, 0, 0, 0]), array([0, 0, 0, 0, 0, 0, 0, 0, 0, 0, 0, 0, 0, 0, 0, 0, 0, 0]), array([0, 0, 0, 0, 0, 0, 0, 0, 0, 0, 0, 0, 0, 0, 0, 0, 0, 0]), array([0, 0, 0, 0, 0, 0, 0, 0, 0, 0, 0, 0, 0, 0, 0, 0, 0, 0]), array([0, 0, 0, 0, 0, 0, 0, 0, 0, 0, 0, 0, 0, 0, 0, 0, 0, 0]), array([0, 0, 0, 0, 0, 0, 0, 0, 0, 0, 0, 0, 0, 0, 0, 0, 0, 0]), array([0, 0, 0, 0, 0, 0, 0, 0, 0, 0, 0, 0, 0, 0, 0, 0, 0, 0]), array([0, 0, 0, 0, 0, 0, 0, 0, 0, 0, 0, 0, 0, 0, 0, 0, 0, 0]), array([0, 0, 0, 0, 0, 0, 0, 0, 0, 0, 0, 0, 0, 0, 0, 0, 0, 0]), array([0, 0, 0, 0, 0, 0, 0, 0, 0, 0, 0, 0, 0, 0, 0, 0, 0, 0]), array([0, 0, 0, 0, 0, 0, 0, 0, 0, 0, 0, 0, 0, 0, 0, 0, 0, 0]), array([0, 0, 0, 0, 0, 0, 0, 0, 0, 0, 0, 0, 0, 0, 0, 0, 0, 0]), array([0, 0, 0, 0, 0, 0, 0, 0, 0, 0, 0, 0, 0, 0, 0, 0, 0, 0]), array([0, 0, 0, 0, 0, 0, 0, 0, 0, 0, 0, 0, 0, 0, 0, 0, 0, 0]), array([0, 0, 0, 0, 0, 0, 0, 0, 0, 0, 0, 0, 0, 0, 0, 0, 0, 0]), array([0, 0, 0, 0, 0, 0, 0, 0, 0, 0, 0, 0, 0, 0, 0, 0, 0, 0])]\n",
      "Final Prediction after multiplying with alpha and applying sign function\n",
      "[1. 1. 1. 1. 1. 1. 1. 1. 1. 1. 1. 1. 1. 1. 1. 1. 1. 1.]\n"
     ]
    }
   ],
   "source": [
    "y_pred = []\n",
    "for i in range(0,len(we)):\n",
    "    b = predict(X_test,we[i])\n",
    "    y_pred.append(b)\n",
    "h=[]\n",
    "for i in range(0,len(alp)):\n",
    "    h.append(alp[i]*y_pred[i])\n",
    "h = np.sum(h,axis=0)\n",
    "h=np.sign(h)\n",
    "a_50 = accuracy(h,Y_test)\n",
    "print(\"Every classifier prediction\")\n",
    "print(y_pred)\n",
    "print(\"Final Prediction after multiplying with alpha and applying sign function\")\n",
    "print(h)"
   ]
  },
  {
   "cell_type": "markdown",
   "id": "36d48222",
   "metadata": {},
   "source": [
    "# Outcome"
   ]
  },
  {
   "cell_type": "code",
   "execution_count": 16,
   "id": "2bc8ed64",
   "metadata": {},
   "outputs": [
    {
     "name": "stdout",
     "output_type": "stream",
     "text": [
      "Error Rate for 10 iterations 66.66666666666667\n",
      "Error Rate for 25 iterations 66.66666666666667\n",
      "Error Rate for 50 iterations 66.66666666666667\n"
     ]
    }
   ],
   "source": [
    "print(\"Error Rate for 10 iterations \"+ str(100-a_10))\n",
    "print(\"Error Rate for 25 iterations \"+ str(100-a_25))\n",
    "print(\"Error Rate for 50 iterations \"+ str(100-a_50))"
   ]
  },
  {
   "cell_type": "code",
   "execution_count": 17,
   "id": "17b38f47",
   "metadata": {},
   "outputs": [
    {
     "name": "stdout",
     "output_type": "stream",
     "text": [
      "Error Rate without Boosting 33.33333333333334\n"
     ]
    }
   ],
   "source": [
    "print(\"Error Rate without Boosting \"+str(100-a))"
   ]
  },
  {
   "cell_type": "markdown",
   "id": "891558ca",
   "metadata": {},
   "source": [
    "# Observation "
   ]
  },
  {
   "cell_type": "markdown",
   "id": "4df8bb3c",
   "metadata": {},
   "source": [
    "We have error rate in boosting more than without boosting"
   ]
  },
  {
   "cell_type": "markdown",
   "id": "88352d3b",
   "metadata": {},
   "source": [
    "# Note"
   ]
  },
  {
   "cell_type": "markdown",
   "id": "5e6d59b9",
   "metadata": {},
   "source": [
    "## Due to more epochs it will take time to run"
   ]
  },
  {
   "cell_type": "code",
   "execution_count": 31,
   "id": "3e8662c7",
   "metadata": {},
   "outputs": [],
   "source": []
  },
  {
   "cell_type": "code",
   "execution_count": 44,
   "id": "1e9395b5",
   "metadata": {},
   "outputs": [
    {
     "name": "stdout",
     "output_type": "stream",
     "text": [
      "0.003396053424117339\n"
     ]
    }
   ],
   "source": [
    "\n",
    "print(a)"
   ]
  },
  {
   "cell_type": "code",
   "execution_count": null,
   "id": "cdf2f50c",
   "metadata": {},
   "outputs": [],
   "source": []
  }
 ],
 "metadata": {
  "kernelspec": {
   "display_name": "Python 3 (ipykernel)",
   "language": "python",
   "name": "python3"
  },
  "language_info": {
   "codemirror_mode": {
    "name": "ipython",
    "version": 3
   },
   "file_extension": ".py",
   "mimetype": "text/x-python",
   "name": "python",
   "nbconvert_exporter": "python",
   "pygments_lexer": "ipython3",
   "version": "3.9.13"
  }
 },
 "nbformat": 4,
 "nbformat_minor": 5
}
