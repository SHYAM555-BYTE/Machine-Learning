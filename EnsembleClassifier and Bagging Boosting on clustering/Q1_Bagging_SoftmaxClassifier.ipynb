{
 "cells": [
  {
   "cell_type": "code",
   "execution_count": 1,
   "id": "ef6e0039",
   "metadata": {},
   "outputs": [],
   "source": [
    "import numpy as np\n",
    "from numpy import loadtxt\n",
    "import pandas as pd\n",
    "import csv\n",
    "import math\n",
    "import warnings\n",
    "warnings.filterwarnings('ignore')"
   ]
  },
  {
   "cell_type": "code",
   "execution_count": 2,
   "id": "aa1e403f",
   "metadata": {},
   "outputs": [],
   "source": [
    "#Importing training data as X_train and Y_train\n",
    "file = open('dataset.csv')\n",
    "csvreader = csv.reader(file, delimiter = \",\")\n",
    "data = []\n",
    "for row in csvreader:\n",
    "    data.append(row)\n",
    "\n",
    "train_data = []\n",
    "for i in range(0 , len(data)):\n",
    "    col= []\n",
    "    for j in range(0,len(data[i])):\n",
    "        if j==len(data[i])-1:\n",
    "            col.append(data[i][j])\n",
    "        else:\n",
    "            col.append(data[i][j])\n",
    "    train_data.append(col)\n",
    "file.close()\n",
    "X_train = []\n",
    "Y_train = []\n",
    "for i in range(len(train_data)):\n",
    "    cols = []\n",
    "    for j in range(0,len(train_data[i])):\n",
    "        if(j==len(train_data[i])-1):\n",
    "            Y_train.append(train_data[i][j])\n",
    "        else:\n",
    "            cols.append(train_data[i][j])\n",
    "    X_train.append(cols)   \n",
    "for i in range(0,len(X_train)):\n",
    "    for j in range(0,len(X_train[i])):\n",
    "        X_train[i][j]=float(X_train[i][j])\n",
    "X_train = np.array(X_train)\n",
    "Y_train = np.array(Y_train)\n",
    "\n",
    "X_train_df = pd.DataFrame(X_train, columns = ['Height','Weight','Diameter','Color'])\n",
    "Y_train_df = pd.DataFrame(Y_train,columns = ['Material'])"
   ]
  },
  {
   "cell_type": "code",
   "execution_count": 3,
   "id": "7176bcb2",
   "metadata": {},
   "outputs": [],
   "source": [
    "#Taking out test dataset as X_test and Y_test\n",
    "test_data = []\n",
    "c = 0\n",
    "p = 0\n",
    "m = 0\n",
    "k = 0\n",
    "x = []\n",
    "for i in range(0,len(train_data)):\n",
    "    if(train_data[i][4]==' Ceramic' and c<6):\n",
    "        x.append(i)\n",
    "        c=c+1\n",
    "        test_data.append(train_data[i])\n",
    "    if(train_data[i][4]==' Plastic' and p<6):\n",
    "        x.append(i)\n",
    "        p=p+1\n",
    "        test_data.append(train_data[i])\n",
    "    if(train_data[i][4]==' Metal' and m<6):\n",
    "        x.append(i)\n",
    "        m=m+1\n",
    "        test_data.append(train_data[i])\n",
    "    if(p>=6 and c>=6 and m>=6):\n",
    "            train_data.append(train_data[i])\n",
    "test_df = pd.DataFrame(data = test_data)\n",
    "X_test = test_df.drop([4],axis = 'columns')\n",
    "Y_test = test_df[4]\n",
    "X_test = np.array(X_test).astype(np.float)\n",
    "Y_test = np.array(Y_test)"
   ]
  },
  {
   "cell_type": "code",
   "execution_count": 4,
   "id": "f69c9977",
   "metadata": {},
   "outputs": [],
   "source": [
    "#Deleting the Test Data set form the training set\n",
    "X_train_df= X_train_df.drop(X_train_df.index[x])\n",
    "Y_train_df = Y_train_df.drop(Y_train_df.index[x])\n"
   ]
  },
  {
   "cell_type": "code",
   "execution_count": 5,
   "id": "c2ef9ea7",
   "metadata": {},
   "outputs": [],
   "source": [
    "X_train = np.array(X_train_df).astype(np.float)\n",
    "Y_train  = np.array(Y_train_df)"
   ]
  },
  {
   "cell_type": "code",
   "execution_count": 15,
   "id": "fb7d485e",
   "metadata": {},
   "outputs": [],
   "source": [
    "#Intializing the functions for the softmax\n",
    "def initialize_weights(X,Y):\n",
    "    z = np.ones((len(X[1]),np.max(Y)+1))\n",
    "    return z\n",
    "\n",
    "def set_labels_int(Y):\n",
    "    for i in range(0,len(Y)):\n",
    "        if Y[i] ==\" Metal\":\n",
    "            Y[i]=0\n",
    "        if Y[i] == \" Plastic\":\n",
    "            Y[i]=1\n",
    "        if Y[i] == \" Ceramic\":\n",
    "            Y[i]=2\n",
    "    return Y\n",
    "\n",
    "def reset_labels(Y):\n",
    "    y=[]\n",
    "    for i in range(0,len(Y)):\n",
    "        if Y[i] == 0:\n",
    "            y.append(\" Metal\")\n",
    "        if Y[i] == 1:\n",
    "            y.append(\" Plastic\")\n",
    "        if Y[i] == 2:\n",
    "            y.append(\" Ceramic\")\n",
    "    return y\n",
    "\n",
    "def set_one_hot(Y_train): \n",
    "    y_train=[]\n",
    "    for i in range(0,len(Y_train)):\n",
    "        arr = []\n",
    "        for j in range(0,np.max(Y_train)+1):\n",
    "            if Y_train[i] == j:\n",
    "                arr.append(1)\n",
    "            else:\n",
    "                arr.append(0)\n",
    "        y_train.append(arr)\n",
    "    return y_train\n",
    "\n",
    "def training(x,y,l_r,epochs):\n",
    "    w = np.ones((len(x[1]),np.max(y)+1))\n",
    "    y = set_one_hot(y)\n",
    "    for i in range(0,epochs):\n",
    "        z = np.dot(x,w)\n",
    "        z = np.exp(z)\n",
    "        v = np.sum(z,axis=1)\n",
    "        sm = []\n",
    "        for i in range(0,len(z)):\n",
    "            cols = []\n",
    "            for j in range(0,len(z[i])):\n",
    "                cols.append(z[i][j]/v[i])\n",
    "            sm.append(cols)\n",
    "        sm = np.array(sm)\n",
    "        sm = y - sm\n",
    "        sm = np.dot(x.T,sm)\n",
    "        w = w + l_r*sm\n",
    "    return w\n",
    "def predict(X_test,tw):\n",
    "    re = np.dot(X_test,tw)\n",
    "    re = np.exp(re)\n",
    "    re = re / np.sum(re, axis=1, keepdims=True)\n",
    "    return np.argmax(re,axis=1)\n",
    "def accuracy(y_pred,y):\n",
    "    c=0\n",
    "    for i in range(0,len(y)):\n",
    "        if y_pred[i]==y[i]:\n",
    "            c=c+1\n",
    "    c = (c/len(y_pred))*100\n",
    "    return c\n",
    "\n",
    "Y_train = set_labels_int(Y_train).astype(np.int)"
   ]
  },
  {
   "cell_type": "markdown",
   "id": "d0f1abe7",
   "metadata": {},
   "source": [
    "# Accuracy without Bagging"
   ]
  },
  {
   "cell_type": "code",
   "execution_count": 16,
   "id": "f2ee7914",
   "metadata": {
    "scrolled": true
   },
   "outputs": [
    {
     "name": "stdout",
     "output_type": "stream",
     "text": [
      "Predicted_output\n",
      "[2 0 2 2 1 1 1 1 1 1 1 1 1 1 1 1 2 2]\n",
      "Desired_output \n",
      "[2 0 2 2 1 1 1 1 1 1 2 0 0 0 0 0 2 2]\n",
      "Accuracy\n",
      "66.66666666666666\n"
     ]
    }
   ],
   "source": [
    "tw = training(X_train,Y_train,0.1,10000)\n",
    "y_pred = predict(X_test,tw)\n",
    "z = set_labels_int(Y_test).astype(np.int)\n",
    "print(\"Predicted_output\")\n",
    "print(y_pred)\n",
    "print(\"Desired_output \")\n",
    "print(z)\n",
    "print(\"Accuracy\")\n",
    "a_wb = accuracy(y_pred,z)\n",
    "print(a_wb)"
   ]
  },
  {
   "cell_type": "markdown",
   "id": "5a5b9d13",
   "metadata": {},
   "source": [
    "# Implementing the Bagging Function"
   ]
  },
  {
   "cell_type": "code",
   "execution_count": 21,
   "id": "e3e22769",
   "metadata": {},
   "outputs": [],
   "source": [
    "#Implementing the bagging function\n",
    "\n",
    "def bagging_dataset(nod,X_train,Y_train):\n",
    "    #nod is number of datasets we want to create\n",
    "    X = []\n",
    "    Y = []\n",
    "    for i in range(0,nod):\n",
    "        c = np.random.randint(len(X_train)-1,size = len(X_train))\n",
    "        cols=[]\n",
    "        ycols = []\n",
    "        for j in range(0,len(c)):\n",
    "            cols.append(X_train[c[j]])\n",
    "            ycols.append(Y_train[c[j]])\n",
    "        X.append(cols)\n",
    "        Y.append(ycols)\n",
    "    Y = np.array(Y)\n",
    "    Y = Y.astype(np.int)\n",
    "    X = np.array(X)\n",
    "    return X,Y\n",
    "\n",
    "def bagging(nod,X,Y):\n",
    "    Y_bag_predict = []\n",
    "    for i in range(0,nod):\n",
    "        tw = training(X[i],Y[i],0.1,10000)\n",
    "        y_pred = predict(X_test,tw)\n",
    "        Y_bag_predict.append(y_pred)\n",
    "    Y_bag_predict = np.array(Y_bag_predict)\n",
    "    Y_bag_predict = Y_bag_predict.astype(np.int)\n",
    "    return Y_bag_predict     \n",
    "\n",
    "def pred_bagging(y):\n",
    "    y_b_p = []\n",
    "    for i in range(0,len(y[0])):\n",
    "        x_b=[]\n",
    "        x_b = y[:,i]\n",
    "        values, counts = np.unique(x_b, return_counts=True)\n",
    "        y_b_p.append(values[counts.argmax()])\n",
    "    return y_b_p\n",
    "    \n",
    "\n"
   ]
  },
  {
   "cell_type": "markdown",
   "id": "55435fa4",
   "metadata": {},
   "source": [
    "# For 10 times"
   ]
  },
  {
   "cell_type": "code",
   "execution_count": 22,
   "id": "aa8cd338",
   "metadata": {},
   "outputs": [
    {
     "name": "stdout",
     "output_type": "stream",
     "text": [
      "Predicted_output\n",
      "[2, 1, 2, 2, 1, 1, 1, 1, 1, 1, 1, 1, 1, 2, 1, 2, 2, 2]\n",
      "Desired_output\n",
      "[2 0 2 2 1 1 1 1 1 1 2 0 0 0 0 0 2 2]\n",
      "Accuracy\n",
      "61.111111111111114\n"
     ]
    }
   ],
   "source": [
    "#We have successfully implemented the bagging the output \n",
    "#Now we will do it for 10 times\n",
    "X,Y = bagging_dataset(10,X_train,Y_train)\n",
    "y_bag_predict = bagging(10,X,Y)\n",
    "a = pred_bagging(y_bag_predict)\n",
    "z = set_labels_int(Y_test)\n",
    "z = np.array(z)\n",
    "print(\"Predicted_output\")\n",
    "print(a)\n",
    "print(\"Desired_output\")\n",
    "print(z)\n",
    "print(\"Accuracy\")\n",
    "a_10 = accuracy(a,z)\n",
    "print(a_10)"
   ]
  },
  {
   "cell_type": "markdown",
   "id": "97f705e3",
   "metadata": {},
   "source": [
    "# For 50 times"
   ]
  },
  {
   "cell_type": "code",
   "execution_count": 23,
   "id": "613db298",
   "metadata": {},
   "outputs": [
    {
     "name": "stdout",
     "output_type": "stream",
     "text": [
      "Predicted_output\n",
      "[2, 1, 2, 2, 1, 1, 1, 1, 1, 1, 1, 1, 1, 2, 1, 1, 2, 2]\n",
      "Desired_output\n",
      "[2 0 2 2 1 1 1 1 1 1 2 0 0 0 0 0 2 2]\n",
      "Accuracy\n",
      "61.111111111111114\n"
     ]
    }
   ],
   "source": [
    "#We have successfully implemented the bagging the output \n",
    "#Now we will do it for 50 times\n",
    "X,Y = bagging_dataset(50,X_train,Y_train)\n",
    "y_bag_predict = bagging(50,X,Y)\n",
    "a = pred_bagging(y_bag_predict)\n",
    "z = set_labels_int(Y_test)\n",
    "z = np.array(z)\n",
    "print(\"Predicted_output\")\n",
    "print(a)\n",
    "print(\"Desired_output\")\n",
    "print(z)\n",
    "print(\"Accuracy\")\n",
    "a_50 = accuracy(a,z)\n",
    "print(a_50)"
   ]
  },
  {
   "cell_type": "markdown",
   "id": "24c972a0",
   "metadata": {},
   "source": [
    "# For 100 times"
   ]
  },
  {
   "cell_type": "code",
   "execution_count": 24,
   "id": "00d9c21d",
   "metadata": {},
   "outputs": [
    {
     "name": "stdout",
     "output_type": "stream",
     "text": [
      "Predicted_output\n",
      "[2, 0, 2, 2, 1, 1, 1, 1, 1, 1, 1, 1, 0, 2, 1, 2, 2, 2]\n",
      "Desired_output\n",
      "[2 0 2 2 1 1 1 1 1 1 2 0 0 0 0 0 2 2]\n",
      "Accuracy\n",
      "72.22222222222221\n"
     ]
    }
   ],
   "source": [
    "#We have successfully implemented the bagging the output \n",
    "#Now we will do it for 100 times\n",
    "X,Y = bagging_dataset(100,X_train,Y_train)\n",
    "y_bag_predict = bagging(100,X,Y)\n",
    "a = pred_bagging(y_bag_predict)\n",
    "z = set_labels_int(Y_test)\n",
    "z = np.array(z)\n",
    "print(\"Predicted_output\")\n",
    "print(a)\n",
    "print(\"Desired_output\")\n",
    "print(z)\n",
    "print(\"Accuracy\")\n",
    "a_100 = accuracy(a,z)\n",
    "print(a_100)"
   ]
  },
  {
   "cell_type": "markdown",
   "id": "8a97a8f3",
   "metadata": {},
   "source": [
    "# Outcome"
   ]
  },
  {
   "cell_type": "code",
   "execution_count": 27,
   "id": "7e9a64ff",
   "metadata": {},
   "outputs": [
    {
     "name": "stdout",
     "output_type": "stream",
     "text": [
      "Error Rates for 100 iterations 27.777777777777786\n",
      "Error Rates for 50 iterations 38.888888888888886\n",
      "Error Rates for 10 iterations 38.888888888888886\n",
      "Error Rates without bagging 33.33333333333334\n"
     ]
    }
   ],
   "source": [
    "print(\"Error Rates for 100 iterations \"+str(100-a_100))\n",
    "print(\"Error Rates for 50 iterations \"+str(100-a_50))\n",
    "print(\"Error Rates for 10 iterations \"+str(100-a_10))\n",
    "print(\"Error Rates without bagging \"+str(100-a_wb))"
   ]
  },
  {
   "cell_type": "code",
   "execution_count": 28,
   "id": "7bdfca57",
   "metadata": {},
   "outputs": [
    {
     "name": "stdout",
     "output_type": "stream",
     "text": [
      "The highest accuracy is with 100 iterations\n",
      "72.22222222222221\n"
     ]
    }
   ],
   "source": [
    "if a_100>=a_50 and a_100>=a_wb and a_100>=a_10:\n",
    "    print(\"The highest accuracy is with 100 iterations\")\n",
    "    print(a_100)\n",
    "elif a_50>a_100 and a_50>a_wb and a_50>a_10:\n",
    "    print(\"The highest accuracy is with 50 iterations\")\n",
    "    print(a_50)\n",
    "elif a_10>a_50 and a_10>a_wb and a_10>a_100:\n",
    "    print(\"The highest accuracy is with 10 iterations\")\n",
    "    print(a_10)"
   ]
  },
  {
   "cell_type": "markdown",
   "id": "db86a672",
   "metadata": {},
   "source": [
    "# NOTE"
   ]
  },
  {
   "cell_type": "markdown",
   "id": "ce24aa74",
   "metadata": {},
   "source": [
    "Due to high values of epochs it takes a lot of time to run "
   ]
  },
  {
   "cell_type": "markdown",
   "id": "d543b39a",
   "metadata": {},
   "source": [
    "# Observation "
   ]
  },
  {
   "cell_type": "markdown",
   "id": "fa2c0319",
   "metadata": {},
   "source": [
    "As we can see after bagging we have gradual increase of accuracy in prediction"
   ]
  },
  {
   "cell_type": "code",
   "execution_count": null,
   "id": "5fd35350",
   "metadata": {},
   "outputs": [],
   "source": []
  }
 ],
 "metadata": {
  "kernelspec": {
   "display_name": "Python 3 (ipykernel)",
   "language": "python",
   "name": "python3"
  },
  "language_info": {
   "codemirror_mode": {
    "name": "ipython",
    "version": 3
   },
   "file_extension": ".py",
   "mimetype": "text/x-python",
   "name": "python",
   "nbconvert_exporter": "python",
   "pygments_lexer": "ipython3",
   "version": "3.9.13"
  }
 },
 "nbformat": 4,
 "nbformat_minor": 5
}
