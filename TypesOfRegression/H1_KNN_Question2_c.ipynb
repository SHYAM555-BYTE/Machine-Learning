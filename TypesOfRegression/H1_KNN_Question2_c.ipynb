{
 "cells": [
  {
   "cell_type": "code",
   "execution_count": 1,
   "id": "c1372809",
   "metadata": {},
   "outputs": [
    {
     "name": "stdout",
     "output_type": "stream",
     "text": [
      "\n",
      "\n",
      "Program Data \n",
      "\n",
      "\n"
     ]
    }
   ],
   "source": [
    "#Student ID 1002080520\n",
    "import numpy as np\n",
    "from numpy import loadtxt\n",
    "import csv\n",
    "\n",
    "#CODE TO TAKE THE DATA AND STORE IN THE VARIABLE\n",
    "\n",
    "file = open('q2_cde_dataset.csv')\n",
    "csvreader = csv.reader(file, delimiter = \",\")\n",
    "data = []\n",
    "for row in csvreader:\n",
    "    data.append(row)\n",
    "\n",
    "program_data = []\n",
    "for i in range(0 , len(data)):\n",
    "    col= []\n",
    "    for j in range(0,len(data[i])):\n",
    "        if j==len(data[i])-1:\n",
    "            col.append(data[i][j])\n",
    "        else:\n",
    "            col.append(float(data[i][j]))\n",
    "    program_data.append(col)\n",
    "file.close()\n",
    "print(\"\\n\\nProgram Data \\n\\n\")"
   ]
  },
  {
   "cell_type": "code",
   "execution_count": 2,
   "id": "0fd740f2",
   "metadata": {
    "scrolled": false
   },
   "outputs": [],
   "source": [
    "#Training the program data by giving data itself and predicting\n",
    "Train_program_data = program_data\n",
    "Distance =[]\n",
    "for i in range(0 , len(Train_program_data)):\n",
    "    col = []\n",
    "    for j in range(0,len(Train_program_data)):\n",
    "        if i==j:\n",
    "             j=j+1\n",
    "        else:\n",
    "                dist_label =[]\n",
    "                dist_label.append(Train_program_data[j][4])\n",
    "                X=Train_program_data[i][0]\n",
    "                Y=Train_program_data[i][1]\n",
    "                Z=Train_program_data[i][2]\n",
    "                W=Train_program_data[i][3]\n",
    "                x=Train_program_data[j][0]\n",
    "                y=Train_program_data[j][1]\n",
    "                z=Train_program_data[j][2]\n",
    "                w=Train_program_data[j][3]\n",
    "                dist = np.sqrt((X-x)**2 + (Y-y)**2 + (Z-z)**2 + (W-w)**2)\n",
    "                dist_label.append(dist)\n",
    "                col.append(dist_label)\n",
    "    Distance.append(col)\n",
    "\n",
    "                "
   ]
  },
  {
   "cell_type": "code",
   "execution_count": 3,
   "id": "18a73d61",
   "metadata": {},
   "outputs": [],
   "source": [
    "#We have measured the distances and also labeled the points now we need to extract the distance arrange it into \n",
    "#ascending order and the again attached the labels so that we can get newly trained data set\n",
    "def bubblesort(arr):   \n",
    "    n = len(arr)\n",
    "    # For loop to traverse through all\n",
    "    # element in an array\n",
    "    for i in range(n):\n",
    "        for j in range(0, n - i - 1):\n",
    "             \n",
    "            # Range of the array is from 0 to n-i-1\n",
    "            # Swap the elements if the element found\n",
    "            #is greater than the adjacent element\n",
    "            if arr[j] > arr[j + 1]:\n",
    "                arr[j], arr[j + 1] = arr[j + 1], arr[j]\n",
    "                \n",
    "only_dist =[]\n",
    "for i in range(0, len(Distance)):\n",
    "    cols=[]\n",
    "    for j in range(0 , len(Distance[i])):\n",
    "        cols.append(Distance[i][j][1])\n",
    "    bubblesort(cols)\n",
    "    only_dist.append(cols)"
   ]
  },
  {
   "cell_type": "code",
   "execution_count": 4,
   "id": "73b0371a",
   "metadata": {},
   "outputs": [],
   "source": [
    "#We have arranged the distance in ascending order now we will label it\n",
    "data_dist_label=[]\n",
    "for i in range(0 , len(only_dist)):\n",
    "    cols=[]\n",
    "    for j in range(0 , len(only_dist[i])):\n",
    "        for h in range(0 , len(only_dist[i])):\n",
    "            if only_dist[i][j]==Distance[i][h][1]:\n",
    "                d = Distance[i][h][0]\n",
    "                break\n",
    "        cols.append(d)\n",
    "    data_dist_label.append(cols)\n",
    "\n",
    "\n",
    "#We have successfully generated the distance label in ascending order"
   ]
  },
  {
   "cell_type": "code",
   "execution_count": 5,
   "id": "08ad5492",
   "metadata": {},
   "outputs": [
    {
     "name": "stdout",
     "output_type": "stream",
     "text": [
      "[' Plastic', ' Plastic', ' Plastic', ' Ceramic', ' Plastic', ' Plastic', ' Plastic', ' Metal', ' Plastic', ' Metal', ' Plastic', ' Ceramic', ' Ceramic', ' Metal', ' Ceramic', ' Plastic', ' Ceramic', ' Ceramic', ' Metal', ' Plastic', ' Metal', ' Plastic', ' Ceramic', ' Metal', ' Ceramic', ' Metal', ' Metal', ' Plastic', ' Plastic', ' Plastic', ' Plastic', ' Ceramic', ' Metal', ' Plastic', ' Ceramic', ' Plastic', ' Ceramic', ' Metal', ' Plastic', ' Plastic', ' Plastic', ' Plastic', ' Ceramic', ' Plastic', ' Plastic', ' Plastic', ' Plastic', ' Metal', ' Metal', ' Plastic', ' Plastic', ' Metal', ' Plastic', ' Metal', ' Ceramic', ' Metal', ' Ceramic', ' Ceramic', ' Ceramic', ' Ceramic', ' Plastic', ' Plastic', ' Plastic', ' Plastic', ' Ceramic', ' Plastic', ' Ceramic', ' Plastic', ' Metal', ' Ceramic', ' Plastic', ' Metal', ' Metal', ' Metal', ' Ceramic', ' Metal', ' Metal', ' Plastic', ' Plastic', ' Plastic', ' Plastic', ' Plastic', ' Plastic', ' Plastic', ' Metal', ' Plastic', ' Plastic', ' Plastic', ' Plastic', ' Metal', ' Plastic', ' Plastic', ' Plastic', ' Metal', ' Ceramic', ' Plastic', ' Plastic', ' Plastic', ' Ceramic', ' Plastic', ' Plastic', ' Ceramic', ' Plastic', ' Plastic', ' Metal', ' Plastic', ' Ceramic', ' Plastic', ' Plastic', ' Metal', ' Plastic', ' Ceramic', ' Plastic', ' Metal', ' Plastic', ' Ceramic', ' Plastic', ' Metal', ' Plastic', ' Plastic']\n"
     ]
    }
   ],
   "source": [
    "#We will now predict by K nearest Neighbours\n",
    "predict_1 = []\n",
    "for i in range(0 , len(data_dist_label)):\n",
    "     predict_1.append(data_dist_label[i][0])\n",
    "print(predict_1)"
   ]
  },
  {
   "cell_type": "code",
   "execution_count": 6,
   "id": "ae2591e3",
   "metadata": {},
   "outputs": [
    {
     "name": "stdout",
     "output_type": "stream",
     "text": [
      "\n",
      "Accuracy for KNN with 1 neighbour\n",
      "Predicted unsuccesfully  58\n",
      "Predicted Successfully  62\n",
      "Accuracy 51.66666666666667%\n"
     ]
    }
   ],
   "source": [
    "#We will now find the accuracy for K=1\n",
    "ps=0 #predicted Successfully\n",
    "pu=0 #Predicted Unsuccessfully\n",
    "for i in range(0,len(program_data)):\n",
    "    if predict_1[i] == program_data[i][4]:\n",
    "            ps=ps+1\n",
    "    else :\n",
    "        pu=pu+1\n",
    "accuracy_1 = ps/(ps+pu)\n",
    "print(\"\\nAccuracy for KNN with 1 neighbour\")\n",
    "print(\"Predicted unsuccesfully  \"+str(pu))\n",
    "print(\"Predicted Successfully  \" + str(ps))\n",
    "print(\"Accuracy \"+str(accuracy_1*100)+\"%\")"
   ]
  },
  {
   "cell_type": "code",
   "execution_count": 7,
   "id": "f4f6a5d0",
   "metadata": {},
   "outputs": [],
   "source": [
    "a = \" Metal\"\n",
    "b = \" Plastic\"\n",
    "c = \" Ceramic\"\n",
    "\n",
    "#We will now intialize the predictions for KNN value 3\n",
    "predict_3 =[]\n",
    "for i in range(0 , len(data_dist_label)):\n",
    "    x=0\n",
    "    y=0\n",
    "    z=0\n",
    "    cols=[]\n",
    "    for j in range(0 , 3):\n",
    "        if (str(data_dist_label[i][j]) == a):\n",
    "            x=x+1\n",
    "        if(str(data_dist_label[i][j])==b):\n",
    "            y=y+1\n",
    "        if(str(data_dist_label[i][j])==c):\n",
    "            z=z+1\n",
    " \n",
    "    if (x >= y) and (y >= z):\n",
    "           largest = a\n",
    "    elif (y >= x) and (y >= z):\n",
    "        largest = b\n",
    "    else:\n",
    "        largest = c\n",
    "    predict_3.append(largest)"
   ]
  },
  {
   "cell_type": "code",
   "execution_count": 12,
   "id": "3b1a6474",
   "metadata": {},
   "outputs": [
    {
     "name": "stdout",
     "output_type": "stream",
     "text": [
      "\n",
      "Accuracy for KNN with 3 neighbour\n",
      "Predicted unsuccesfully  58\n",
      "Predicted Successfully  62\n",
      "Accuracy 51.66666666666667%\n"
     ]
    }
   ],
   "source": [
    "#Now we will find the accuracy for KNN with 3 neighbours\n",
    "\n",
    "ps=0 #predicted Successfully\n",
    "pu=0 #Predicted Unsuccessfully\n",
    "for i in range(0,len(program_data)):\n",
    "    if predict_3[i] == program_data[i][4]:\n",
    "            ps=ps+1\n",
    "    else :\n",
    "        pu=pu+1\n",
    "accuracy_1 = ps/(ps+pu)\n",
    "print(\"\\nAccuracy for KNN with 3 neighbour\")\n",
    "print(\"Predicted unsuccesfully  \"+str(pu))\n",
    "print(\"Predicted Successfully  \" + str(ps))\n",
    "print(\"Accuracy \"+str(accuracy_1*100)+\"%\")"
   ]
  },
  {
   "cell_type": "code",
   "execution_count": 9,
   "id": "dde4e634",
   "metadata": {},
   "outputs": [],
   "source": [
    "#We will now intialize the predictions for KNN value 3\n",
    "predict_5 =[]\n",
    "for i in range(0 , len(data_dist_label)):\n",
    "    x=0\n",
    "    y=0\n",
    "    z=0\n",
    "    cols=[]\n",
    "    for j in range(0 , 5):\n",
    "        if (str(data_dist_label[i][j]) == a):\n",
    "            x=x+1\n",
    "        if(str(data_dist_label[i][j])==b):\n",
    "            y=y+1\n",
    "        if(str(data_dist_label[i][j])==c):\n",
    "            z=z+1\n",
    " \n",
    "    if (x >= y) and (y >= z):\n",
    "           largest = a\n",
    "    elif (y >= x) and (y >= z):\n",
    "        largest = b\n",
    "    else:\n",
    "        largest = c\n",
    "    predict_5.append(largest)"
   ]
  },
  {
   "cell_type": "code",
   "execution_count": 14,
   "id": "e9f0a956",
   "metadata": {},
   "outputs": [
    {
     "name": "stdout",
     "output_type": "stream",
     "text": [
      "\n",
      "Accuracy for KNN with 5 neighbour\n",
      "Predicted unsuccesfully  57\n",
      "Predicted Successfully  63\n",
      "Accuracy 52.5%\n"
     ]
    }
   ],
   "source": [
    "#Now we will find the accuracy for KNN with 3 neighbours\n",
    "\n",
    "ps=0 #predicted Successfully\n",
    "pu=0 #Predicted Unsuccessfully\n",
    "for i in range(0,len(program_data)):\n",
    "    if predict_5[i] == program_data[i][4]:\n",
    "            ps=ps+1\n",
    "    else :\n",
    "        pu=pu+1\n",
    "accuracy_1 = ps/(ps+pu)\n",
    "print(\"\\nAccuracy for KNN with 5 neighbour\")\n",
    "print(\"Predicted unsuccesfully  \"+str(pu))\n",
    "print(\"Predicted Successfully  \" + str(ps))\n",
    "print(\"Accuracy \"+str(accuracy_1*100)+\"%\")\n"
   ]
  },
  {
   "cell_type": "markdown",
   "id": "64eb667e",
   "metadata": {},
   "source": [
    "Hence we can see that 5 neighbours we have more accuracy then with 1 and 3 neighbours"
   ]
  }
 ],
 "metadata": {
  "kernelspec": {
   "display_name": "Python 3 (ipykernel)",
   "language": "python",
   "name": "python3"
  },
  "language_info": {
   "codemirror_mode": {
    "name": "ipython",
    "version": 3
   },
   "file_extension": ".py",
   "mimetype": "text/x-python",
   "name": "python",
   "nbconvert_exporter": "python",
   "pygments_lexer": "ipython3",
   "version": "3.9.13"
  }
 },
 "nbformat": 4,
 "nbformat_minor": 5
}
