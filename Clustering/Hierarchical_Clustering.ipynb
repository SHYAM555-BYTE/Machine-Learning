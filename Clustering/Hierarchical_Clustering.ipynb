{
 "cells": [
  {
   "cell_type": "markdown",
   "id": "e980972f",
   "metadata": {},
   "source": [
    "# Importing the Libraries"
   ]
  },
  {
   "cell_type": "code",
   "execution_count": 1,
   "id": "a66f22ff",
   "metadata": {},
   "outputs": [],
   "source": [
    "import pandas as pd\n",
    "import numpy as np\n",
    "import warnings\n",
    "warnings.filterwarnings('ignore')"
   ]
  },
  {
   "cell_type": "markdown",
   "id": "ba093cdb",
   "metadata": {},
   "source": [
    "# Importing The Dataset"
   ]
  },
  {
   "cell_type": "code",
   "execution_count": 2,
   "id": "19c2dcb1",
   "metadata": {},
   "outputs": [],
   "source": [
    "df= pd.read_csv(\"hw1_q2_dataset.csv\",header = None)\n",
    "X = df.drop([4],axis=1)\n",
    "X = np.array(X)\n",
    "Y = df[4]\n",
    "Y = np.array(Y)"
   ]
  },
  {
   "cell_type": "markdown",
   "id": "6b96e1cd",
   "metadata": {},
   "source": [
    "# Implementing Agglomerative Clustering With Single Linkage and Complete Linkage"
   ]
  },
  {
   "cell_type": "code",
   "execution_count": 3,
   "id": "896c1995",
   "metadata": {
    "scrolled": true
   },
   "outputs": [],
   "source": [
    "def HAC(X,method):\n",
    "    u = method.lower()\n",
    "    if u == \"single\":\n",
    "        h = singlelink(X)\n",
    "        return h\n",
    "    elif u == \"complete\":\n",
    "        h = complink(X)\n",
    "        return h\n",
    "\n",
    "#Implementing single linkage clustering \n",
    "\n",
    "def singlelink(X):\n",
    "    matrix = []\n",
    "    slink = []\n",
    "\n",
    "    for i in range(0,len(X)):\n",
    "        diff = X-X[i]\n",
    "        diff = np.square(diff)\n",
    "        diff = np.sum(diff,axis=1)\n",
    "        diff = np.sqrt(diff)\n",
    "        matrix.append(diff)\n",
    "    matrix = np.array(matrix)\n",
    "    x = matrix\n",
    "    rows = []\n",
    "    for i in range(0,len(X)):\n",
    "        cols=[]\n",
    "        cols.append(i)\n",
    "        rows.append(cols)\n",
    "    n = rows\n",
    "    v = len(n)\n",
    "    while(v!=1):   \n",
    "        c=100000\n",
    "        for i in range(0,len(x)):\n",
    "            for j in range(0,len(x[i])):\n",
    "                if x[i][j]<=c:\n",
    "                    if x[i][j]==0:\n",
    "                        c=c\n",
    "                    else:\n",
    "                        c=x[i][j]\n",
    "                        a=i\n",
    "                        b=j\n",
    "                    \n",
    "        li = []\n",
    "        for i in range(0,len(n[a])):\n",
    "            li.append(n[a][i])\n",
    "        for j in range(0,len(n[b])):\n",
    "            li.append(n[b][j])\n",
    "        n[a] = None\n",
    "        n[a] = li\n",
    "        n[b]=None\n",
    "        g = list(n)\n",
    "        while(None in g):\n",
    "            g.remove(None)\n",
    "        for i in range(0,len(x[a])):\n",
    "            if x[a][i]>=x[b][i]:\n",
    "                x[a][i]=x[b][i]\n",
    "        for i in range(0,len(x)):\n",
    "            if x[i][a]>=x[i][b]:\n",
    "                x[i][a]=x[i][b]\n",
    "        for i in range(0,len(x[b])):\n",
    "            x[b][i]=0\n",
    "        for i in range(0,len(x)):\n",
    "            x[i][b]=0\n",
    "        v = len(g)\n",
    "        slink.append(g)\n",
    "    return slink\n",
    "\n",
    "#Implementing complete linkage\n",
    "\n",
    "def complink(X):\n",
    "    matrix = []\n",
    "    slink = []\n",
    "    for i in range(0,len(X)):\n",
    "        diff = X-X[i]\n",
    "        diff = np.square(diff)\n",
    "        diff = np.sum(diff,axis=1)\n",
    "        diff = np.sqrt(diff)\n",
    "        matrix.append(diff)\n",
    "    matrix = np.array(matrix)\n",
    "    x = matrix\n",
    "    rows = []\n",
    "    for i in range(0,len(X)):\n",
    "        cols=[]\n",
    "        cols.append(i)\n",
    "        rows.append(cols)\n",
    "    n = rows\n",
    "    v = len(n)\n",
    "    while(v!=1):   \n",
    "        c=100000\n",
    "        for i in range(0,len(x)):\n",
    "            for j in range(0,len(x[i])):\n",
    "                if x[i][j]<=c:\n",
    "                    if x[i][j]==0:\n",
    "                        c=c\n",
    "                    else:\n",
    "                        c=x[i][j]\n",
    "                        a=i\n",
    "                        b=j\n",
    "                    \n",
    "        li = []\n",
    "        for i in range(0,len(n[a])):\n",
    "            li.append(n[a][i])\n",
    "        for j in range(0,len(n[b])):\n",
    "            li.append(n[b][j])\n",
    "        n[a] = None\n",
    "        n[a] = li\n",
    "        n[b]=None\n",
    "        g = list(n)\n",
    "        while(None in g):\n",
    "            g.remove(None)\n",
    "        for i in range(0,len(x[a])):\n",
    "            if x[a][i]<=x[b][i]:\n",
    "                if i==a or i==b:\n",
    "                    x[a][i]=0\n",
    "                    x[b][i]=0\n",
    "                else:\n",
    "                    x[a][i]=x[b][i]\n",
    "        for i in range(0,len(x)):\n",
    "            if x[i][a]<=x[i][b]:\n",
    "                if i==a or i==b:\n",
    "                    x[i][a]=0\n",
    "                    x[i][b]=0\n",
    "                else:\n",
    "                    x[i][a]=x[i][b]\n",
    "        for i in range(0,len(x[b])):\n",
    "            x[b][i]=0\n",
    "        for i in range(0,len(x)):\n",
    "            x[i][b]=0\n",
    "        v = len(g)\n",
    "        slink.append(g)\n",
    "    return slink\n",
    "\n",
    "        \n",
    "#Implementing the conversion of labels to integer   \n",
    "    \n",
    "def trltn(label):\n",
    "    cols = []\n",
    "    for i in range(0,len(label)):\n",
    "        if label[i] == ' Metal':\n",
    "                cols.append(0)\n",
    "        elif label[i] == ' Ceramic':\n",
    "                cols.append(1)\n",
    "        elif label[i] == ' Plastic':\n",
    "                cols.append(2)\n",
    "    return cols\n",
    "       \n",
    "\n",
    "#Implementation of weighted accuracy and each cluster accuracy seprately    \n",
    "\n",
    "def accuracy(X,Y,n):\n",
    "    \n",
    "    wc = 0\n",
    "    acc = []\n",
    "    ans = X[len(X)-n]\n",
    "    label = []\n",
    "    for i in range(0,len(ans)):\n",
    "        col = []\n",
    "        for j in range(0,len(ans[i])):\n",
    "            n = ans[i][j]\n",
    "            col.append(Y[n])\n",
    "        label.append(col)\n",
    "    for i in range(0,len(label)):\n",
    "        c = 0\n",
    "        p = np.bincount(label[i]).argmax()\n",
    "        for j in range(0,len(label[i])):\n",
    "            b = ans[i][j]\n",
    "            if Y[b] == p:\n",
    "                c=c+1\n",
    "        c = c/len(ans[i])\n",
    "        c=c*100\n",
    "        acc.append(c)\n",
    "        c = c*len(ans[i])\n",
    "        c = c/len(Y)\n",
    "        wc = wc+c\n",
    "    acc.append(wc)\n",
    "    return acc\n",
    "    "
   ]
  },
  {
   "cell_type": "markdown",
   "id": "22e96c34",
   "metadata": {},
   "source": [
    "# Converting The Labels Into Integer Value"
   ]
  },
  {
   "cell_type": "code",
   "execution_count": 4,
   "id": "2e4716d0",
   "metadata": {},
   "outputs": [],
   "source": [
    "Y_train = trltn(Y)"
   ]
  },
  {
   "cell_type": "markdown",
   "id": "ce1e175b",
   "metadata": {},
   "source": [
    "# Implementing Hierachical Clustering On The Dataset"
   ]
  },
  {
   "cell_type": "code",
   "execution_count": 14,
   "id": "ae067d14",
   "metadata": {},
   "outputs": [],
   "source": [
    "s = HAC(X,\"single\")\n",
    "c = HAC(X,\"complete\")"
   ]
  },
  {
   "cell_type": "markdown",
   "id": "ff4ed997",
   "metadata": {},
   "source": [
    "# Accuracy OF Every Cluster And Weighted Accuracy For Following Number Of Cluseters for Single Linkage As Follows"
   ]
  },
  {
   "cell_type": "code",
   "execution_count": 29,
   "id": "10809666",
   "metadata": {},
   "outputs": [
    {
     "name": "stdout",
     "output_type": "stream",
     "text": [
      "Accuracy for 2 Cluster clusterwise is \n",
      "\n",
      "[100.0, 50.42016806722689]\n",
      "\n",
      "Weighted Accuracy for 2 Cluster is \n",
      "\n",
      "50.833333333333336\n",
      "\n",
      "Accuracy for 4 Cluster clusterwise is \n",
      "\n",
      "[100.0, 100.0, 100.0, 50.427350427350426]\n",
      "\n",
      "Weighted Accuracy for 4 Cluster is \n",
      "\n",
      "51.666666666666664\n",
      "\n",
      "Accuracy for 6 Cluster clusterwise is \n",
      "\n",
      "[100.0, 100.0, 100.0, 100.0, 50.0, 51.81818181818182]\n",
      "\n",
      "Weighted Accuracy for 6 Cluster is \n",
      "\n",
      "53.333333333333336\n",
      "\n",
      "Accuracy for 8 Cluster clusterwise is \n",
      "\n",
      "[100.0, 75.0, 100.0, 100.0, 100.0, 100.0, 100.0, 52.293577981651374]\n",
      "\n",
      "Weighted Accuracy for 8 Cluster is \n",
      "\n",
      "55.83333333333333\n",
      "\n"
     ]
    }
   ],
   "source": [
    "for i in [2,4,6,8]:\n",
    "    print(\"Accuracy for \" +str(i)+\" Cluster clusterwise is \\n\")\n",
    "    acc = accuracy(s,Y_train,i)\n",
    "    print(str(acc[:-1])+\"\\n\")\n",
    "    print(\"Weighted Accuracy for \" +str(i)+\" Cluster is \\n\")\n",
    "    print(str(acc[-1])+\"\\n\")"
   ]
  },
  {
   "cell_type": "markdown",
   "id": "692ee8e6",
   "metadata": {},
   "source": [
    "# Accuracy OF Every Cluster And Weighted Accuracy For Following Number Of Cluseters for Single Linkage As Follows"
   ]
  },
  {
   "cell_type": "code",
   "execution_count": 28,
   "id": "edcd66b1",
   "metadata": {},
   "outputs": [
    {
     "name": "stdout",
     "output_type": "stream",
     "text": [
      "Accuracy for 2 Cluster clusterwise is \n",
      "\n",
      "[50.0, 50.0]\n",
      "\n",
      "Weighted Accuracy for 2 Cluster is \n",
      "\n",
      "50.0\n",
      "\n",
      "Accuracy for 4 Cluster clusterwise is \n",
      "\n",
      "[58.82352941176471, 40.0, 50.0, 50.0]\n",
      "\n",
      "Weighted Accuracy for 4 Cluster is \n",
      "\n",
      "50.0\n",
      "\n",
      "Accuracy for 6 Cluster clusterwise is \n",
      "\n",
      "[62.06896551724138, 58.82352941176471, 40.0, 37.93103448275862, 40.0, 70.0]\n",
      "\n",
      "Weighted Accuracy for 6 Cluster is \n",
      "\n",
      "50.0\n",
      "\n",
      "Accuracy for 8 Cluster clusterwise is \n",
      "\n",
      "[100.0, 100.0, 62.06896551724138, 58.82352941176471, 50.0, 37.93103448275862, 40.0, 77.77777777777779]\n",
      "\n",
      "Weighted Accuracy for 8 Cluster is \n",
      "\n",
      "53.33333333333333\n",
      "\n"
     ]
    }
   ],
   "source": [
    "for i in [2,4,6,8]:\n",
    "    print(\"Accuracy for \" +str(i)+\" Cluster clusterwise is \\n\")\n",
    "    acc = accuracy(c,Y_train,i)\n",
    "    print(str(acc[:-1])+\"\\n\")\n",
    "    print(\"Weighted Accuracy for \" +str(i)+\" Cluster is \\n\")\n",
    "    print(str(acc[-1])+\"\\n\")"
   ]
  },
  {
   "cell_type": "markdown",
   "id": "644b1d65",
   "metadata": {},
   "source": [
    "# Results And Observation"
   ]
  },
  {
   "cell_type": "markdown",
   "id": "26ff0d7b",
   "metadata": {},
   "source": [
    "### As we can see from above obtained results that weighted accuracy for total number of 8 cluters is highest amongst both single linkage clustering and complete linkage clustering but comparing both we can say that single linkage clustering slightly edges onto the complete linkage clustering as both of the clustering techniques have weighted accuracy of 55.83% and 53.33% respectievely"
   ]
  },
  {
   "cell_type": "markdown",
   "id": "be322f1a",
   "metadata": {},
   "source": [
    "### Accuracy of single linkage > Accuracy of complete linkage"
   ]
  },
  {
   "cell_type": "code",
   "execution_count": null,
   "id": "23d0a312",
   "metadata": {},
   "outputs": [],
   "source": []
  },
  {
   "cell_type": "code",
   "execution_count": null,
   "id": "bf056a40",
   "metadata": {},
   "outputs": [],
   "source": []
  }
 ],
 "metadata": {
  "kernelspec": {
   "display_name": "Python 3 (ipykernel)",
   "language": "python",
   "name": "python3"
  },
  "language_info": {
   "codemirror_mode": {
    "name": "ipython",
    "version": 3
   },
   "file_extension": ".py",
   "mimetype": "text/x-python",
   "name": "python",
   "nbconvert_exporter": "python",
   "pygments_lexer": "ipython3",
   "version": "3.9.13"
  }
 },
 "nbformat": 4,
 "nbformat_minor": 5
}
