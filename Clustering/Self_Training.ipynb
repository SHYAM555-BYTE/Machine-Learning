{
 "cells": [
  {
   "cell_type": "markdown",
   "id": "3e90021f",
   "metadata": {},
   "source": [
    "# Importing Libraries"
   ]
  },
  {
   "cell_type": "code",
   "execution_count": 1,
   "id": "54926f4d",
   "metadata": {},
   "outputs": [],
   "source": [
    "import pandas as pd\n",
    "import numpy as np\n",
    "import warnings\n",
    "warnings.filterwarnings('ignore')"
   ]
  },
  {
   "cell_type": "markdown",
   "id": "8331cce3",
   "metadata": {},
   "source": [
    "# Importing Dataset"
   ]
  },
  {
   "cell_type": "code",
   "execution_count": 2,
   "id": "3418dd79",
   "metadata": {},
   "outputs": [],
   "source": [
    "df= pd.read_csv(\"hw1_q2_dataset.csv\",header = None)\n",
    "X = df.drop([4],axis=1)\n",
    "X = np.array(X)\n",
    "Y_train = df[4]\n",
    "Y_train = np.array(Y_train)\n"
   ]
  },
  {
   "cell_type": "markdown",
   "id": "bf864866",
   "metadata": {},
   "source": [
    "# Giving Integers To Labels"
   ]
  },
  {
   "cell_type": "code",
   "execution_count": 3,
   "id": "7b970d81",
   "metadata": {},
   "outputs": [],
   "source": [
    "def trltn(label):\n",
    "    cols = []\n",
    "    for i in range(0,len(label)):\n",
    "        if label[i] == ' Metal':\n",
    "                cols.append(0)\n",
    "        elif label[i] == ' Ceramic':\n",
    "                cols.append(1)\n",
    "        elif label[i] == ' Plastic':\n",
    "                cols.append(2)\n",
    "    return cols"
   ]
  },
  {
   "cell_type": "code",
   "execution_count": 4,
   "id": "2823e95b",
   "metadata": {},
   "outputs": [],
   "source": [
    "Y_train = df[4]\n",
    "df = df.drop([4],axis=1)\n",
    "e = df\n",
    "e = np.array(e)\n",
    "Y = trltn(Y_train)\n",
    "df['labels'] = Y"
   ]
  },
  {
   "cell_type": "code",
   "execution_count": 5,
   "id": "5e4bdfa6",
   "metadata": {},
   "outputs": [],
   "source": [
    "X = df\n",
    "X = np.array(X)"
   ]
  },
  {
   "cell_type": "markdown",
   "id": "d265cfa5",
   "metadata": {},
   "source": [
    "# Splitting the Dataset in Ds and Du"
   ]
  },
  {
   "cell_type": "code",
   "execution_count": 229,
   "id": "4d4299dd",
   "metadata": {},
   "outputs": [],
   "source": [
    "Ds = []\n",
    "l = []\n",
    "c0=0\n",
    "c1=0\n",
    "c2=0\n",
    "for i in range(0,len(X)):\n",
    "    if Y[i]==0 and c0<=9:\n",
    "        c0=c0+1\n",
    "        Ds.append(X[i])\n",
    "        l.append(i)\n",
    "    if Y[i]==1 and c1<=9:\n",
    "        c1 = c1+1\n",
    "        Ds.append(X[i])\n",
    "        l.append(i)\n",
    "    if Y[i]==2 and c2<=9:\n",
    "        c2 = c2+1\n",
    "        Ds.append(X[i])\n",
    "        l.append(i)\n",
    "Ds = np.array(Ds)\n",
    "Y_ds = Ds[:,-1]\n",
    "Du = []\n",
    "for i in range(0,len(X)):\n",
    "    if i not in l:\n",
    "        Du.append(X[i])\n",
    "        \n",
    "Du = np.array(Du)\n",
    "Y_du = Du[:,-1]\n",
    "Du = np.delete(Du,len(Du[0])-1,axis=1)\n",
    "Y_test = np.hstack((Y_ds,Y_du))"
   ]
  },
  {
   "cell_type": "markdown",
   "id": "a98eb533",
   "metadata": {},
   "source": [
    "# Implementing KNN For Self Training"
   ]
  },
  {
   "cell_type": "code",
   "execution_count": 230,
   "id": "edccc0b3",
   "metadata": {},
   "outputs": [],
   "source": [
    "def predict_knn(Ds,Du,k):\n",
    "    x_train = Ds\n",
    "    y_train = x_train[:,-1]\n",
    "    test_i = Du\n",
    "    train  = []\n",
    "    for i in range(0,len(x_train)):\n",
    "        cols = []\n",
    "        for j in range(0,len(x_train[i])-1):\n",
    "            cols.append(x_train[i][j])\n",
    "        train.append(cols)\n",
    "    train = np.array(train)\n",
    "    dist_index = []\n",
    "    for i in range(0,len(test_i)):\n",
    "        diff = train-test_i[i]\n",
    "        diff = np.square(diff)\n",
    "        diff = np.sum(diff,axis=1)\n",
    "        diff = np.sqrt(diff)\n",
    "        index = np.argsort(diff)\n",
    "        dist_index.append(index)\n",
    "    labels_dist = []\n",
    "    for i in range(0,len(dist_index)):\n",
    "        cols = []\n",
    "        for j in range(0,k):\n",
    "            cols.append(y_train[dist_index[i][j]])\n",
    "        labels_dist.append(cols)\n",
    "    predict = []\n",
    "    for i in range(0,len(labels_dist)):\n",
    "        c1=0\n",
    "        c2=0\n",
    "        c0=0\n",
    "        cols = []\n",
    "        for j in range(0,len(labels_dist[i])):\n",
    "            if labels_dist[i][j] == 0:\n",
    "                c0 = c0+1\n",
    "            elif labels_dist[i][j] == 1:\n",
    "                c1 = c1+1\n",
    "            elif labels_dist[i][j] == 2:\n",
    "                c2 = c2+2\n",
    "        if c1==c2 and c2==c0:\n",
    "            for j in range(0,len(labels_dist[i])):\n",
    "                if labels_dist[i][j]==1 or labels_dist[i][j]==2 or labels_dist[i][j]==0:\n",
    "                    k = labels_dist[i][j]\n",
    "                    break\n",
    "        elif c1>c2 and c1>c0:\n",
    "            k = 1\n",
    "        elif c2>c1 and c2>c0:\n",
    "            k=2\n",
    "        elif c0>c1 and c0>c2:\n",
    "            k = 0\n",
    "        elif c0==c1 and c1>c2:\n",
    "            for j in range(0,len(labels_dist[i])):\n",
    "                if labels_dist[i][j]==1 or labels_dist[i][j]==0:\n",
    "                    k = labels_dist[i][j]\n",
    "                    break\n",
    "        elif c1==c2 and c1>c0:\n",
    "            for j in range(0,len(labels_dist[i])):\n",
    "                if labels_dist[i][j]==1 or labels_dist[i][j]==2:\n",
    "                    k = labels_dist[i][j]\n",
    "                    break\n",
    "        elif c0==c2 and c0>c2:\n",
    "            for j in range(0,len(labels_dist[i])):\n",
    "                if labels_dist[i][j]==2 or labels_dist[i][j]==0:\n",
    "                    k = labels_dist[i][j]\n",
    "                    break\n",
    "        cols.append(k)\n",
    "        predict.append(cols)\n",
    "    predict = np.array(predict)\n",
    "    tr = test_i\n",
    "    tr = np.hstack((tr, predict))\n",
    "    x_train = np.vstack((x_train,tr))\n",
    "    return x_train\n",
    "\n",
    "def accuracy(y,y_t):\n",
    "    c=0\n",
    "    for i in range(0,len(y)):\n",
    "        if y[i]==y_t[i]:\n",
    "            c=c+1\n",
    "    c = c/len(y)\n",
    "    c = c*100\n",
    "    return c"
   ]
  },
  {
   "cell_type": "markdown",
   "id": "abdc19b5",
   "metadata": {},
   "source": [
    "# Implementing Self-Learning "
   ]
  },
  {
   "cell_type": "code",
   "execution_count": 231,
   "id": "3e0bb07f",
   "metadata": {},
   "outputs": [],
   "source": [
    "def ssl(x_t,x_te,k,n):\n",
    "    c = len(x_te)\n",
    "    while(c!=0):\n",
    "        if k>len(x_te):\n",
    "            x_t = predict_knn(x_t,x_te,n)\n",
    "            x_te = []\n",
    "            c=len(x_te)\n",
    "        else :\n",
    "            d = []\n",
    "            for i in range(0,k):\n",
    "                d.append(x_te[i])\n",
    "            h= np.array(d)\n",
    "            x_t = predict_knn(x_t,d,n)\n",
    "            d = []\n",
    "            for i in range(0,len(x_te)):\n",
    "                if k-1<i:\n",
    "                    d.append(x_te[i])\n",
    "            h = np.array(d)\n",
    "            x_te = h\n",
    "            c = len(x_te)\n",
    "    return x_t\n"
   ]
  },
  {
   "cell_type": "markdown",
   "id": "d811b9f9",
   "metadata": {},
   "source": [
    "# Implementing the Self Learning For Different Neighbors And Number Of Data Points"
   ]
  },
  {
   "cell_type": "code",
   "execution_count": 232,
   "id": "5364ecf4",
   "metadata": {},
   "outputs": [
    {
     "name": "stdout",
     "output_type": "stream",
     "text": [
      "The accuracy for number of data points added in each iteration 5 and nearest neighbors 3 is 52.22222222222223\n",
      "The accuracy for number of data points added in each iteration 15 and nearest neighbors 3 is 58.88888888888889\n",
      "The accuracy for number of data points added in each iteration 20 and nearest neighbors 3 is 56.666666666666664\n",
      "The accuracy for number of data points added in each iteration 25 and nearest neighbors 3 is 58.88888888888889\n",
      "The accuracy for number of data points added in each iteration 5 and nearest neighbors 5 is 61.111111111111114\n",
      "The accuracy for number of data points added in each iteration 15 and nearest neighbors 5 is 58.88888888888889\n",
      "The accuracy for number of data points added in each iteration 20 and nearest neighbors 5 is 52.22222222222223\n",
      "The accuracy for number of data points added in each iteration 25 and nearest neighbors 5 is 50.0\n"
     ]
    }
   ],
   "source": [
    "k = [3,5]\n",
    "dp = [5,15,20,25]\n",
    "for i in range(0,len(k)):\n",
    "    for j in range(0,len(dp)):\n",
    "        kn = k[i]\n",
    "        p = dp[j]\n",
    "        predict = ssl(Ds,Du,p,kn)\n",
    "        pre = predict[:,-1]\n",
    "        pre = pre[30:len(pre)]\n",
    "        y = Y_test[30:len(Y_test)]\n",
    "        acc = accuracy(pre,y)\n",
    "        print(\"The accuracy for number of data points added in each iteration \"+str(p)+\" and nearest neighbors \"+ str(kn)+\" is \"+str(acc))\n",
    "\n",
    "        "
   ]
  },
  {
   "cell_type": "markdown",
   "id": "75288b08",
   "metadata": {},
   "source": [
    "# Observation Q2a)"
   ]
  },
  {
   "cell_type": "markdown",
   "id": "26f6fd99",
   "metadata": {},
   "source": [
    "As we can see from the above result that we using self training on KNN Model we get highest accuracy on adding 5 data points that is 61.14% for 5 nearest neigbors , where accuracy is checked on the unlabelled data"
   ]
  },
  {
   "cell_type": "markdown",
   "id": "cbbf41bf",
   "metadata": {},
   "source": [
    "# Q2b)"
   ]
  },
  {
   "cell_type": "markdown",
   "id": "2cd2554b",
   "metadata": {},
   "source": [
    "# Implementing A Normal KNN "
   ]
  },
  {
   "cell_type": "code",
   "execution_count": 227,
   "id": "263afab7",
   "metadata": {},
   "outputs": [],
   "source": [
    "def predict_nknn(X_train_df,X_test_df,Y_train,k):\n",
    "    dist_index = []\n",
    "    for i in range(0,len(X_test_df)):\n",
    "        diff = X_train_df - X_test_df[i]\n",
    "        diff = np.square(diff)\n",
    "        diff = np.sum(diff,axis=1)\n",
    "        diff = np.sqrt(diff)\n",
    "        index = np.argsort(diff)\n",
    "        dist_index.append(index)\n",
    "    labels_dist = []\n",
    "    for i in range(0,len(dist_index)):\n",
    "        cols = []\n",
    "        for j in range(0,k):\n",
    "            cols.append(Y_train[dist_index[i][j]])\n",
    "        labels_dist.append(cols)\n",
    "\n",
    "    predict = []\n",
    "    for i in range(0,len(labels_dist)):\n",
    "        c1=0\n",
    "        c2=0\n",
    "        c0=0\n",
    "        cols = []\n",
    "        for j in range(0,len(labels_dist[i])):\n",
    "            if labels_dist[i][j] == 0:\n",
    "                c0 = c0+1\n",
    "            elif labels_dist[i][j] == 1:\n",
    "                c1 = c1+1\n",
    "            elif labels_dist[i][j] == 2:\n",
    "                c2 = c2+2\n",
    "        if c1==c2 and c2==c0:\n",
    "            for j in range(0,len(labels_dist[i])):\n",
    "                if labels_dist[i][j]==1 or labels_dist[i][j]==2 or labels_dist[i][j]==0:\n",
    "                    k = labels_dist[i][j]\n",
    "                    break\n",
    "        elif c1>c2 and c1>c0:\n",
    "            k = 1\n",
    "        elif c2>c1 and c2>c0:\n",
    "            k=2\n",
    "        elif c0>c1 and c0>c2:\n",
    "            k = 0\n",
    "        elif c0==c1 and c1>c2:\n",
    "            for j in range(0,len(labels_dist[i])):\n",
    "                if labels_dist[i][j]==1 or labels_dist[i][j]==0:\n",
    "                    k = labels_dist[i][j]\n",
    "                    break\n",
    "        elif c1==c2 and c1>c0:\n",
    "            for j in range(0,len(labels_dist[i])):\n",
    "                if labels_dist[i][j]==1 or labels_dist[i][j]==2:\n",
    "                    k = labels_dist[i][j]\n",
    "                    break\n",
    "        elif c0==c2 and c0>c2:\n",
    "            for j in range(0,len(labels_dist[i])):\n",
    "                if labels_dist[i][j]==2 or labels_dist[i][j]==0:\n",
    "                    k = labels_dist[i][j]\n",
    "                    break\n",
    "        cols.append(k)\n",
    "        predict.append(cols)\n",
    "    return predict\n"
   ]
  },
  {
   "cell_type": "markdown",
   "id": "d600bd8c",
   "metadata": {},
   "source": [
    "# Implementing The Normal KNN And Finding Accuracy On Different Neighbors"
   ]
  },
  {
   "cell_type": "code",
   "execution_count": 240,
   "id": "289b2a5e",
   "metadata": {},
   "outputs": [
    {
     "name": "stdout",
     "output_type": "stream",
     "text": [
      "Accuracy for Normal KNN we get accuracy for 3 neighbors 53.333333333333336\n"
     ]
    }
   ],
   "source": [
    "ff = pd.DataFrame(data=Ds)\n",
    "ff =ff.drop([4],axis=1)\n",
    "X_N_train = np.array(ff)\n",
    "predict = predict_nknn(X_N_train,Du,Y_ds,3)\n",
    "acc = accuracy(predict,Y_test[30:len(Y_test)])\n",
    "print(\"Accuracy for Normal KNN we get accuracy for 3 neighbors \" +str(acc))"
   ]
  },
  {
   "cell_type": "markdown",
   "id": "c4916cae",
   "metadata": {},
   "source": [
    "# Implementing The Self Training Model In Order To Compare With Normal KNN"
   ]
  },
  {
   "cell_type": "markdown",
   "id": "9f08786a",
   "metadata": {},
   "source": [
    "## For Four Data Points Added"
   ]
  },
  {
   "cell_type": "code",
   "execution_count": 250,
   "id": "eaae97e8",
   "metadata": {},
   "outputs": [
    {
     "name": "stdout",
     "output_type": "stream",
     "text": [
      "Accuracy for self Training KNN model where data points added after every iteration are 4 have 55.55555555555556\n"
     ]
    }
   ],
   "source": [
    "predict = ssl(Ds,Du,4,3)\n",
    "pre = predict[:,-1]\n",
    "pre = pre[30:len(pre)]\n",
    "y = Y_test[30:len(Y_test)]\n",
    "acc = accuracy(pre,y)\n",
    "print(\"Accuracy for self Training KNN model where data points added after every iteration are 4 have \"+str(acc))"
   ]
  },
  {
   "cell_type": "markdown",
   "id": "a4df5ca8",
   "metadata": {},
   "source": [
    "## For All Data Points Added"
   ]
  },
  {
   "cell_type": "code",
   "execution_count": 249,
   "id": "8c13138c",
   "metadata": {},
   "outputs": [
    {
     "name": "stdout",
     "output_type": "stream",
     "text": [
      "Accuracy for self Training KNN model where all data points are added in single iteration have 53.333333333333336\n"
     ]
    }
   ],
   "source": [
    "predict = ssl(Ds,Du,len(Du),3)\n",
    "pre = predict[:,-1]\n",
    "pre = pre[30:len(pre)]\n",
    "y = Y_test[30:len(Y_test)]\n",
    "acc = accuracy(pre,y)\n",
    "print(\"Accuracy for self Training KNN model where all data points are added in single iteration have \"+str(acc))"
   ]
  },
  {
   "cell_type": "markdown",
   "id": "885f39f1",
   "metadata": {},
   "source": [
    "## For Adding Five Points "
   ]
  },
  {
   "cell_type": "code",
   "execution_count": 248,
   "id": "03c7a0be",
   "metadata": {},
   "outputs": [
    {
     "name": "stdout",
     "output_type": "stream",
     "text": [
      "Accuracy for self Training KNN model where data points added after every iteration are 5 have 52.22222222222223\n"
     ]
    }
   ],
   "source": [
    "predict = ssl(Ds,Du,5,3)\n",
    "pre = predict[:,-1]\n",
    "pre = pre[30:len(pre)]\n",
    "y = Y_test[30:len(Y_test)]\n",
    "acc = accuracy(pre,y)\n",
    "print(\"Accuracy for self Training KNN model where data points added after every iteration are 5 have \"+str(acc))"
   ]
  },
  {
   "cell_type": "markdown",
   "id": "32b8be4a",
   "metadata": {},
   "source": [
    "## For Adding Three points (Personal Choice)"
   ]
  },
  {
   "cell_type": "code",
   "execution_count": 247,
   "id": "9f8db8cf",
   "metadata": {},
   "outputs": [
    {
     "name": "stdout",
     "output_type": "stream",
     "text": [
      "Accuracy for self Training KNN model where data points added after every iteration are 3 have 56.666666666666664\n"
     ]
    }
   ],
   "source": [
    "predict = ssl(Ds,Du,3,3)\n",
    "pre = predict[:,-1]\n",
    "pre = pre[30:len(pre)]\n",
    "y = Y_test[30:len(Y_test)]\n",
    "acc = accuracy(pre,y)\n",
    "print(\"Accuracy for self Training KNN model where data points added after every iteration are 3 have \"+str(acc))"
   ]
  },
  {
   "cell_type": "markdown",
   "id": "263aaa5a",
   "metadata": {},
   "source": [
    "# Outcome Q2b)"
   ]
  },
  {
   "cell_type": "markdown",
   "id": "b4a49a25",
   "metadata": {},
   "source": [
    "From above we can see that accuracy of normal KNN and the accuracy when we added all datapoints in a single iteration is same as both will follow the same procedure only.<br>\n",
    "From above experiment we can say that when we add 3 and 4 data points the accuracy slightly edges to Normal KNN as both have accuracies of 55.55 and 56.66 respectievely compared to Normal KNN accuracy of 53.33\n",
    "From above experiment when we add 5 points in every iteration we get less accuracy than the accuracy of Normal KNN"
   ]
  },
  {
   "cell_type": "markdown",
   "id": "2da90388",
   "metadata": {},
   "source": [
    "# Conclusion"
   ]
  },
  {
   "cell_type": "markdown",
   "id": "b847a808",
   "metadata": {},
   "source": [
    "Thus we can say that whenever we add less number of points we get more accuracy then normal KNN as the model is trained by itself and is gaining knowledge in every iteration thats why the lesser the data point in inserted in every iteration the more will be the accuracy"
   ]
  },
  {
   "cell_type": "code",
   "execution_count": null,
   "id": "9dc0d946",
   "metadata": {},
   "outputs": [],
   "source": []
  }
 ],
 "metadata": {
  "kernelspec": {
   "display_name": "Python 3 (ipykernel)",
   "language": "python",
   "name": "python3"
  },
  "language_info": {
   "codemirror_mode": {
    "name": "ipython",
    "version": 3
   },
   "file_extension": ".py",
   "mimetype": "text/x-python",
   "name": "python",
   "nbconvert_exporter": "python",
   "pygments_lexer": "ipython3",
   "version": "3.9.13"
  }
 },
 "nbformat": 4,
 "nbformat_minor": 5
}
