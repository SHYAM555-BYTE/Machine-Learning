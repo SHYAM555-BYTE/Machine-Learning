{
 "cells": [
  {
   "cell_type": "markdown",
   "id": "dcc38c4e",
   "metadata": {},
   "source": [
    "# Importing The Required Libraries"
   ]
  },
  {
   "cell_type": "code",
   "execution_count": 1,
   "id": "c3f11537",
   "metadata": {},
   "outputs": [],
   "source": [
    "import numpy as np\n",
    "import pandas as pd\n",
    "import matplotlib.pyplot as plt"
   ]
  },
  {
   "cell_type": "markdown",
   "id": "f8c467b4",
   "metadata": {},
   "source": [
    "Here we have use specific libraries such as numpy and pandas in order to import the data and perfom several calculations on the data using numpy"
   ]
  },
  {
   "cell_type": "markdown",
   "id": "1fc33d47",
   "metadata": {},
   "source": [
    "# Importing The Datasets\n"
   ]
  },
  {
   "cell_type": "code",
   "execution_count": 4,
   "id": "583ade10",
   "metadata": {},
   "outputs": [],
   "source": [
    "X_train = pd.read_csv(\"train_images.csv\",header = None)\n",
    "Y_labels = pd.read_csv(\"train_labels.csv\")\n",
    "X_test = pd.read_csv(\"test_images.csv\",header = None)\n",
    "Y_test_labels = pd.read_csv(\"test_labels.csv\")\n",
    "Y_test = Y_test_labels['Volcano?']\n",
    "Y_train = Y_labels['Volcano?']\n",
    "X_train = pd.concat([X_train, X_test], axis=0)\n",
    "Y = pd.concat([Y_train,Y_test], axis=0)\n",
    "X_train = np.array(X_train)\n",
    "Y = np.array(Y)\n",
    "\n",
    "    "
   ]
  },
  {
   "cell_type": "markdown",
   "id": "5258bf92",
   "metadata": {},
   "source": [
    "We have imported the dataset from the kaggle website <br>\n",
    "Link - https://www.kaggle.com/datasets/fmena14/volcanoesvenus"
   ]
  },
  {
   "cell_type": "markdown",
   "id": "497be1a8",
   "metadata": {},
   "source": [
    "# Knowing The Dataset\n",
    " "
   ]
  },
  {
   "cell_type": "code",
   "execution_count": 8,
   "id": "0c0ceb2d",
   "metadata": {},
   "outputs": [
    {
     "data": {
      "image/png": "[encoded data removed]",
      "text/plain": [
       "<Figure size 640x480 with 1 Axes>"
      ]
     },
     "metadata": {},
     "output_type": "display_data"
    }
   ],
   "source": [
    "c1=0\n",
    "c0=0\n",
    "for i in range(0,len(Y)):\n",
    "    if Y[i]==1:\n",
    "        c1=c1+1\n",
    "    else:\n",
    "        c0=c0+1\n",
    "data = {'Volcanos':c1,'NoVolcanos':c0}\n",
    "label = list(data.keys())\n",
    "values = list(data.values())\n",
    "plt.bar(label, values, color ='maroon',\n",
    "        width = 0.4)\n",
    " \n",
    "plt.xlabel(\"Labels\")\n",
    "plt.ylabel(\"Data\")\n",
    "plt.title(\"volcano v/s n\")\n",
    "plt.show()"
   ]
  },
  {
   "cell_type": "markdown",
   "id": "8312f7a1",
   "metadata": {},
   "source": [
    "# Implementing Min-Max Normalization "
   ]
  },
  {
   "cell_type": "markdown",
   "id": "b8fcd6c9",
   "metadata": {},
   "source": [
    "As we know that the dataset has lot of values and larger numbers might create problem in plotting the data as well our database will be structured and arranged in a way that is logical, with increased organization, duplication and location errors will be minimized."
   ]
  },
  {
   "cell_type": "code",
   "execution_count": 9,
   "id": "81997f26",
   "metadata": {},
   "outputs": [],
   "source": [
    "def normalize(X_train):\n",
    "    h = X_train.T\n",
    "    maxi = []\n",
    "    mini = []\n",
    "    for i in range(0,len(h)):\n",
    "        maxi.append(np.amax(h[i]))\n",
    "        mini.append(np.amin(h[i]))\n",
    "    d = []\n",
    "    for i in range(0,len(h)):\n",
    "        upp = h[i]-mini[i]\n",
    "        lower = maxi[i]-mini[i]\n",
    "        v = upp/lower\n",
    "        d.append(v)\n",
    "    d = np.array(d)\n",
    "    d=d.T\n",
    "    return d\n",
    "    "
   ]
  },
  {
   "cell_type": "markdown",
   "id": "aef64c83",
   "metadata": {},
   "source": [
    "Above here we have perfom Min-Max Normalization on the given dataset on both the training dataset as well as test dataset <br>\n",
    "<b>Formula for Min-Max Normalization : </b><br>\n",
    "<b> X = (X - X<sub>min</sub>)/(X<sub>max</sub>-X<sub>min</sub>)"
   ]
  },
  {
   "cell_type": "markdown",
   "id": "cdb84897",
   "metadata": {},
   "source": [
    "# Implementing PCA"
   ]
  },
  {
   "cell_type": "code",
   "execution_count": 11,
   "id": "64a90970",
   "metadata": {},
   "outputs": [],
   "source": [
    "def PCA(X_train):\n",
    "    X_mean = np.mean(X_train,axis=0)\n",
    "    Xm = X_train - X_mean\n",
    "    Q = np.dot(Xm.T,Xm)\n",
    "    Q = Q/len(Xm-1)\n",
    "    e_value,e_vectors = np.linalg.eig(Q)\n",
    "    return e_value , e_vectors\n",
    "\n",
    "def Transform(e_value,k,e_vectors,X_train):\n",
    "    X_mean = np.mean(X_train,axis=0)\n",
    "    Xm = X_train - X_mean\n",
    "    index = np.argsort(e_value)[::-1]\n",
    "    x = np.arange(0,k,1,dtype=int) \n",
    "    vectors = e_vectors.T\n",
    "    vectors = vectors[index[x]]\n",
    "    vectors = vectors.T\n",
    "    X_transform = np.dot(Xm,vectors)\n",
    "    return X_transform"
   ]
  },
  {
   "cell_type": "markdown",
   "id": "5ece2a77",
   "metadata": {},
   "source": [
    "As we can see above we have implemented<b> PCA </b>by using <b>Eigen Value Decomposition Method (EVD)</b> \n",
    "<ul>\n",
    "    <b>Steps</b>\n",
    "    <li>Find the mean X_mean </li>\n",
    "    <li>Substract from original i.e <b>Xm = X - X_mean</b>\n",
    "    <li>Now we find the covariance i.e <b>Dot_product(Xm,Xm.T)/(len(Xm-1)</b>\n",
    "    <li>Now we find the eigenvectors and eigenvalues with help of linalg function</li>\n",
    "</ul>\n",
    "After this we plot the variance dispersion and the components v/s eigen graph so that we can know how many components to take and after it we transform the given the data into the selected components <br>\n",
    "\n",
    "Transformation procedure is done with help of eigen values and eigen vectors\n",
    "<ul>\n",
    "    <b>Steps</b>\n",
    "    <li>Find Mean X_mean </li>\n",
    "    <li>Substract from original i.e <b>Xm = X - X_mean</b>\n",
    "    <li>We sort the eigen values in descending order</li>\n",
    "    <li>We take only the first selected K component corresponding eigenvectors</li>\n",
    "    <li><b>Dot_product(Xm,vectors.T)</b></li>\n",
    "        </ul>\n",
    "    \n",
    "    "
   ]
  },
  {
   "cell_type": "markdown",
   "id": "2e170b94",
   "metadata": {},
   "source": [
    "# Implementing KNN"
   ]
  },
  {
   "cell_type": "code",
   "execution_count": 12,
   "id": "1d44f684",
   "metadata": {},
   "outputs": [],
   "source": [
    "def predict_knn(X_train_df,X_test_df,Y_train,k):\n",
    "    dist_index = []\n",
    "    for i in range(0,len(X_test_df)):\n",
    "        diff = X_train_df - X_test_df[i]\n",
    "        diff = np.square(diff)\n",
    "        diff = np.sum(diff,axis=1)\n",
    "        diff = np.sqrt(diff)\n",
    "        index = np.argsort(diff)\n",
    "        dist_index.append(index)\n",
    "    labels_dist = []\n",
    "    for i in range(0,len(dist_index)):\n",
    "        cols = []\n",
    "        for j in range(0,k):\n",
    "            cols.append(Y_train[dist_index[i][j]])\n",
    "        labels_dist.append(cols)\n",
    "\n",
    "    predict = []\n",
    "    for i in range(0,len(labels_dist)):\n",
    "        v = np.bincount(labels_dist[i]).argmax()\n",
    "        predict.append(v)\n",
    "    return predict\n",
    "\n",
    "def cm(predict,Y_test):\n",
    "    ap = 0\n",
    "    fp = 0\n",
    "    fn = 0\n",
    "    tn = 0\n",
    "    for i in range(0,len(predict)):\n",
    "        if Y_test[i]==1 and predict[i]==1:\n",
    "            ap = ap+1\n",
    "        elif Y_test[i]==0 and predict[i]==1:\n",
    "            fp = fp+1\n",
    "        elif Y_test[i]==1 and predict[i]==0:\n",
    "            fn = fn + 1\n",
    "        elif Y_test[i]==0 and predict[i]==0:\n",
    "            tn = tn + 1\n",
    "    row1 = [ap , fp]\n",
    "    row2 = [fn , tn]\n",
    "    rows = []\n",
    "    rows.append(row1)\n",
    "    rows.append(row2)\n",
    "    return rows\n",
    "\n",
    "def accuracy(cm):\n",
    "    f = 2*cm[0][0]\n",
    "    d = 2*cm[0][0]\n",
    "    d = d+cm[0][1]\n",
    "    d = d+cm[1][0]\n",
    "    f = f/d  \n",
    "    acc = cm[0][0]+cm[1][1]\n",
    "    dv = np.sum(cm)\n",
    "    acc = acc/dv\n",
    "    return f,acc"
   ]
  },
  {
   "cell_type": "markdown",
   "id": "8c8ecc1a",
   "metadata": {},
   "source": [
    "Above we have implemented the KNN model using eucledian distance and then finding the nearest index and label it to the given test data in order to predict the classification of the given particular data"
   ]
  },
  {
   "cell_type": "code",
   "execution_count": 85,
   "id": "cf3a9dff",
   "metadata": {},
   "outputs": [],
   "source": [
    "def splitting(X,Y,n):\n",
    "    x_train = []\n",
    "    x_test = []\n",
    "    y_train = []\n",
    "    y_test = []\n",
    "    for i in range(0,len(X)):\n",
    "        if i >(len(X)-n-1):\n",
    "            x_test.append(X[i])\n",
    "            y_test.append(Y[i])\n",
    "        else:\n",
    "            x_train.append(X[i])\n",
    "            y_train.append(Y[i])\n",
    "    return x_train,x_test,y_train,y_test"
   ]
  },
  {
   "cell_type": "markdown",
   "id": "5e7563aa",
   "metadata": {},
   "source": [
    "We will now split the data back where it were original training dataset and test dataset"
   ]
  },
  {
   "cell_type": "markdown",
   "id": "86ed6d9e",
   "metadata": {},
   "source": [
    "# Implementing Normalization On Given Dataset"
   ]
  },
  {
   "cell_type": "code",
   "execution_count": 15,
   "id": "69ae9d98",
   "metadata": {},
   "outputs": [],
   "source": [
    "X_N = normalize(X_train)"
   ]
  },
  {
   "cell_type": "markdown",
   "id": "f068a3b3",
   "metadata": {},
   "source": [
    "# Implementing PCA On The Given Dataset\n"
   ]
  },
  {
   "cell_type": "code",
   "execution_count": 16,
   "id": "4ea0dbdc",
   "metadata": {},
   "outputs": [
    {
     "name": "stdout",
     "output_type": "stream",
     "text": [
      "CPU times: user 44min 12s, sys: 16min 2s, total: 1h 15s\n",
      "Wall time: 12min 40s\n"
     ]
    }
   ],
   "source": [
    "%%time\n",
    "e_train,e_v_train = PCA(X_N)"
   ]
  },
  {
   "cell_type": "code",
   "execution_count": 82,
   "id": "5ae48245",
   "metadata": {},
   "outputs": [
    {
     "data": {
      "image/png": "[encoded data removed]",
      "text/plain": [
       "<Figure size 640x480 with 1 Axes>"
      ]
     },
     "metadata": {},
     "output_type": "display_data"
    }
   ],
   "source": [
    "index = np.argsort(e_train)[::-1]\n",
    "z = np.arange(0,len(index),1,dtype=int)\n",
    "vt = e_train[index[z]]\n",
    "plt.scatter(z,vt[z])\n",
    "plt.xlim([-4,30])\n",
    "plt.ylim([-20,150])\n",
    "plt.title(\"Train Eigen Value\")\n",
    "plt.show()"
   ]
  },
  {
   "cell_type": "code",
   "execution_count": 18,
   "id": "058fd3bc",
   "metadata": {},
   "outputs": [
    {
     "name": "stderr",
     "output_type": "stream",
     "text": [
      "/Users/shyampatel/opt/anaconda3/lib/python3.9/site-packages/matplotlib/transforms.py:775: ComplexWarning: Casting complex values to real discards the imaginary part\n",
      "  points = np.asarray(points, float)\n",
      "/Users/shyampatel/opt/anaconda3/lib/python3.9/site-packages/matplotlib/cbook/__init__.py:1298: ComplexWarning: Casting complex values to real discards the imaginary part\n",
      "  return np.asarray(x, float)\n"
     ]
    },
    {
     "data": {
      "image/png": "[encoded data removed]",
      "text/plain": [
       "<Figure size 640x480 with 1 Axes>"
      ]
     },
     "metadata": {},
     "output_type": "display_data"
    }
   ],
   "source": [
    "total_egnvalues = sum(e_train)\n",
    "var_exp = [(i/total_egnvalues) for i in sorted(e_train, reverse=True)]\n",
    "#\n",
    "# Plot the explained variance against cumulative explained variance\n",
    "#\n",
    "import matplotlib.pyplot as plt\n",
    "cum_sum_exp = np.cumsum(var_exp)\n",
    "plt.bar(range(0,len(var_exp)), var_exp, alpha=0.5, align='center', label='Individual explained variance')\n",
    "plt.step(range(0,len(cum_sum_exp)), cum_sum_exp, where='mid',label='Cumulative explained variance')\n",
    "plt.ylabel('Explained variance ratio')\n",
    "plt.xlabel('Principal component index')\n",
    "plt.legend(loc='best')\n",
    "plt.tight_layout()\n",
    "plt.show()"
   ]
  },
  {
   "cell_type": "markdown",
   "id": "53315fd7",
   "metadata": {},
   "source": [
    "Above we have use np.cumsum to find the cumulative variance in order to find number of components we can take for getting above certain variance"
   ]
  },
  {
   "cell_type": "code",
   "execution_count": 19,
   "id": "012d5fec",
   "metadata": {},
   "outputs": [],
   "source": [
    "def n_components(cum_sum_exp,var):\n",
    "    for i in range(0,len(cum_sum_exp)):\n",
    "        if cum_sum_exp[i]>var:\n",
    "            return i"
   ]
  },
  {
   "cell_type": "markdown",
   "id": "e89e5279",
   "metadata": {},
   "source": [
    "# Experiment On Some Random Values Of PCA"
   ]
  },
  {
   "cell_type": "markdown",
   "id": "70187e39",
   "metadata": {},
   "source": [
    "Let us experiment on when our components covers different percent of variance"
   ]
  },
  {
   "cell_type": "markdown",
   "id": "0d923571",
   "metadata": {},
   "source": [
    "# For 3 Nearest Neighbors"
   ]
  },
  {
   "cell_type": "code",
   "execution_count": 91,
   "id": "6c172e8a",
   "metadata": {},
   "outputs": [
    {
     "name": "stdout",
     "output_type": "stream",
     "text": [
      "The confusion Matrix For 3 Nearest Neighbours and 0 components 0.65 variance\n",
      "[[   0    0]\n",
      " [ 434 2300]]\n",
      "Accuracy for 3 Nearest Neighbours and 0 components 0.65 variance\n",
      "84.12582297000732\n",
      "F-Score for 3 Nearest Neighbours and 0 components 0.65 variance\n",
      "0.0\n",
      "The confusion Matrix For 3 Nearest Neighbours and 1 components 0.7 variance\n",
      "[[  26  119]\n",
      " [ 408 2181]]\n",
      "Accuracy for 3 Nearest Neighbours and 1 components 0.7 variance\n",
      "80.72421360643746\n",
      "F-Score for 3 Nearest Neighbours and 1 components 0.7 variance\n",
      "0.08981001727115717\n",
      "The confusion Matrix For 3 Nearest Neighbours and 6 components 0.75 variance\n",
      "[[  89  107]\n",
      " [ 345 2193]]\n",
      "Accuracy for 3 Nearest Neighbours and 6 components 0.75 variance\n",
      "83.46744696415507\n",
      "F-Score for 3 Nearest Neighbours and 6 components 0.75 variance\n",
      "0.28253968253968254\n",
      "The confusion Matrix For 3 Nearest Neighbours and 65 components 0.8 variance\n",
      "[[ 131   44]\n",
      " [ 303 2256]]\n",
      "Accuracy for 3 Nearest Neighbours and 65 components 0.8 variance\n",
      "87.30797366495977\n",
      "F-Score for 3 Nearest Neighbours and 65 components 0.8 variance\n",
      "0.4302134646962233\n",
      "The confusion Matrix For 3 Nearest Neighbours and 287 components 0.85 variance\n",
      "[[ 108   32]\n",
      " [ 326 2268]]\n",
      "Accuracy for 3 Nearest Neighbours and 287 components 0.85 variance\n",
      "86.90563277249451\n",
      "F-Score for 3 Nearest Neighbours and 287 components 0.85 variance\n",
      "0.37630662020905925\n",
      "The confusion Matrix For 3 Nearest Neighbours and 746 components 0.9 variance\n",
      "[[  80   38]\n",
      " [ 354 2262]]\n",
      "Accuracy for 3 Nearest Neighbours and 746 components 0.9 variance\n",
      "85.66203365032918\n",
      "F-Score for 3 Nearest Neighbours and 746 components 0.9 variance\n",
      "0.2898550724637681\n",
      "CPU times: user 3min 12s, sys: 26 s, total: 3min 38s\n",
      "Wall time: 2min 11s\n"
     ]
    }
   ],
   "source": [
    "%%time\n",
    "for i in [0.65,0.70,0.75,0.80,0.85,0.90]:\n",
    "    x = n_components(cum_sum_exp,i)\n",
    "    X_transform = Transform(e_train,x,e_v_train,X_N)\n",
    "    x_train,x_test,y_train,y_test = splitting(X_transform,Y,len(X_test))\n",
    "    predict = predict_knn(x_train,x_test,y_train,3)\n",
    "    conf_m = cm(predict,y_test)\n",
    "    conf_m = np.array(conf_m)\n",
    "    f , acc= accuracy(conf_m)\n",
    "    print(\"The confusion Matrix For 3 Nearest Neighbours and \"+str(x)+\" components \"+str(i)+\" variance\")\n",
    "    print(conf_m)\n",
    "    print(\"Accuracy for 3 Nearest Neighbours and \"+str(x)+\" components \"+str(i)+\" variance\")\n",
    "    print(acc*100)\n",
    "    print(\"F-Score for 3 Nearest Neighbours and \"+str(x)+\" components \"+str(i)+\" variance\")\n",
    "    print(f)"
   ]
  },
  {
   "cell_type": "markdown",
   "id": "a63dbb85",
   "metadata": {},
   "source": [
    "# For 5 Nearest Neighbors"
   ]
  },
  {
   "cell_type": "code",
   "execution_count": 92,
   "id": "4850876e",
   "metadata": {},
   "outputs": [
    {
     "name": "stdout",
     "output_type": "stream",
     "text": [
      "The confusion Matrix For 5 Nearest Neighbours and 0 components 0.65 variance\n",
      "[[   0    0]\n",
      " [ 434 2300]]\n",
      "Accuracy for 5 Nearest Neighbours and 0 components 0.65 variance\n",
      "84.12582297000732\n",
      "F-Score for  Nearest Neighbours and 0 components 0.65 variance\n",
      "0.0\n",
      "The confusion Matrix For 5 Nearest Neighbours and 1 components 0.7 variance\n",
      "[[  11   56]\n",
      " [ 423 2244]]\n",
      "Accuracy for 5 Nearest Neighbours and 1 components 0.7 variance\n",
      "82.47988295537674\n",
      "F-Score for  Nearest Neighbours and 1 components 0.7 variance\n",
      "0.043912175648702596\n",
      "The confusion Matrix For 5 Nearest Neighbours and 6 components 0.75 variance\n",
      "[[  70   62]\n",
      " [ 364 2238]]\n",
      "Accuracy for 5 Nearest Neighbours and 6 components 0.75 variance\n",
      "84.41843452816387\n",
      "F-Score for  Nearest Neighbours and 6 components 0.75 variance\n",
      "0.24734982332155478\n",
      "The confusion Matrix For 5 Nearest Neighbours and 65 components 0.8 variance\n",
      "[[  95   25]\n",
      " [ 339 2275]]\n",
      "Accuracy for 5 Nearest Neighbours and 65 components 0.8 variance\n",
      "86.68617410387711\n",
      "F-Score for  Nearest Neighbours and 65 components 0.8 variance\n",
      "0.34296028880866425\n",
      "The confusion Matrix For 5 Nearest Neighbours and 287 components 0.85 variance\n",
      "[[  92   32]\n",
      " [ 342 2268]]\n",
      "Accuracy for 5 Nearest Neighbours and 287 components 0.85 variance\n",
      "86.32040965618143\n",
      "F-Score for  Nearest Neighbours and 287 components 0.85 variance\n",
      "0.32974910394265233\n",
      "The confusion Matrix For 5 Nearest Neighbours and 746 components 0.9 variance\n",
      "[[  67   30]\n",
      " [ 367 2270]]\n",
      "Accuracy for 5 Nearest Neighbours and 746 components 0.9 variance\n",
      "85.47915142648135\n",
      "F-Score for  Nearest Neighbours and 746 components 0.9 variance\n",
      "0.2523540489642185\n",
      "CPU times: user 3min 11s, sys: 24.6 s, total: 3min 36s\n",
      "Wall time: 2min 12s\n"
     ]
    }
   ],
   "source": [
    "%%time\n",
    "for i in [0.65,0.70,0.75,0.80,0.85,0.90]:\n",
    "    x = n_components(cum_sum_exp,i)\n",
    "    X_transform = Transform(e_train,x,e_v_train,X_N)\n",
    "    x_train,x_test,y_train,y_test = splitting(X_transform,Y,len(X_test))\n",
    "    predict = predict_knn(x_train,x_test,y_train,5)\n",
    "    conf_m = cm(predict,y_test)\n",
    "    conf_m = np.array(conf_m)\n",
    "    f , acc= accuracy(conf_m)\n",
    "    print(\"The confusion Matrix For 5 Nearest Neighbours and \"+str(x)+\" components \"+str(i)+\" variance\")\n",
    "    print(conf_m)\n",
    "    print(\"Accuracy for 5 Nearest Neighbours and \"+str(x)+\" components \"+str(i)+\" variance\")\n",
    "    print(acc*100)\n",
    "    print(\"F-Score for  Nearest Neighbours and \"+str(x)+\" components \"+str(i)+\" variance\")\n",
    "    print(f)"
   ]
  },
  {
   "cell_type": "markdown",
   "id": "efd1b00c",
   "metadata": {},
   "source": [
    "# Result"
   ]
  },
  {
   "cell_type": "markdown",
   "id": "78e51912",
   "metadata": {},
   "source": [
    "From above experiment we can say that on variance less than 0.80 for this particular given test  dataset we have accuracy of 87.30% and F-score of 0.43 for 3 nearest neighbors"
   ]
  }
 ],
 "metadata": {
  "kernelspec": {
   "display_name": "Python 3 (ipykernel)",
   "language": "python",
   "name": "python3"
  },
  "language_info": {
   "codemirror_mode": {
    "name": "ipython",
    "version": 3
   },
   "file_extension": ".py",
   "mimetype": "text/x-python",
   "name": "python",
   "nbconvert_exporter": "python",
   "pygments_lexer": "ipython3",
   "version": "3.9.13"
  }
 },
 "nbformat": 4,
 "nbformat_minor": 5
}
