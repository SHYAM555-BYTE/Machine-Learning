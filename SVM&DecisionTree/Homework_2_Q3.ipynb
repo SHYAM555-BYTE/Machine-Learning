{
 "cells": [
  {
   "cell_type": "code",
   "execution_count": 489,
   "id": "d0331c4a",
   "metadata": {},
   "outputs": [],
   "source": [
    "import numpy as np\n",
    "import pandas as pd\n",
    "import csv\n",
    "from sklearn.tree import DecisionTreeClassifier\n",
    "from sklearn.metrics import classification_report, confusion_matrix"
   ]
  },
  {
   "cell_type": "code",
   "execution_count": 490,
   "id": "549372d0",
   "metadata": {},
   "outputs": [],
   "source": [
    "#Importing the raw data \n",
    "file = open('hw1_q2_dataset.csv')\n",
    "csvreader = csv.reader(file, delimiter = \",\")\n",
    "data = []\n",
    "for row in csvreader:\n",
    "    data.append(row)\n",
    "\n",
    "program_data = []\n",
    "for i in range(0 , len(data)):\n",
    "    col= []\n",
    "    for j in range(0,len(data[i])):\n",
    "        if j==len(data[i])-1:\n",
    "            col.append(data[i][j])\n",
    "        else:\n",
    "            col.append(float(data[i][j]))\n",
    "    program_data.append(col)\n",
    "file.close()"
   ]
  },
  {
   "cell_type": "code",
   "execution_count": 491,
   "id": "1b392d54",
   "metadata": {},
   "outputs": [],
   "source": [
    "#Now we have the program data with us successfully now we will seprate it into training and test data set as per\n",
    "#Given Conditions\n",
    "test_data = []\n",
    "train_data = []\n",
    "c = 0\n",
    "p = 0\n",
    "m = 0\n",
    "k = 0\n",
    "for i in range(0,len(program_data)):\n",
    "    \n",
    "    if(program_data[i][4]==' Ceramic' and c<6):\n",
    "        c=c+1\n",
    "        test_data.append(program_data[i])\n",
    "    if(program_data[i][4]==' Plastic' and p<6):\n",
    "        p=p+1\n",
    "        test_data.append(program_data[i])\n",
    "    if(program_data[i][4]==' Metal' and m<6):\n",
    "        m=m+1\n",
    "        test_data.append(program_data[i])\n",
    "    if(p>=6 and c>=6 and m>=6):\n",
    "            train_data.append(program_data[i])"
   ]
  },
  {
   "cell_type": "code",
   "execution_count": 492,
   "id": "cf4e6e33",
   "metadata": {},
   "outputs": [],
   "source": [
    "#Now we have successfully done with our training and test data now we will replace the classes of plastic with \n",
    "# 1 and all the other classes with -1 in order to perform svm\n",
    "\n",
    "for i in range (0, len(train_data)):\n",
    "    if(train_data[i][4]==' Plastic'):\n",
    "        train_data[i][4]=0\n",
    "    elif(train_data[i][4]==' Metal'):\n",
    "        train_data[i][4]=1\n",
    "    elif(train_data[i][4]==' Ceramic'):\n",
    "        train_data[i][4]=2\n",
    "for i in range (0, len(test_data)):\n",
    "    if(test_data[i][4]==' Plastic'):\n",
    "        test_data[i][4]=0\n",
    "    elif(test_data[i][4]==' Metal'):\n",
    "        test_data[i][4]=1\n",
    "    elif(test_data[i][4]==' Ceramic'):\n",
    "        test_data[i][4]=2\n"
   ]
  },
  {
   "cell_type": "code",
   "execution_count": 493,
   "id": "cba337a6",
   "metadata": {},
   "outputs": [],
   "source": [
    "#We have converted the given raw datasets into dataframes uisng pandas \n",
    "column_names = [\"Height\",\"Diameter\",\"Weight\",\"Hue\",\"Target\"]\n",
    "train_df = pd.DataFrame(data=train_data , columns =column_names)\n",
    "test_df = pd.DataFrame(data = test_data, columns = column_names)\n"
   ]
  },
  {
   "cell_type": "code",
   "execution_count": 494,
   "id": "b67574a4",
   "metadata": {},
   "outputs": [],
   "source": [
    "#Now we are seprating the traget value\n",
    "X_train = train_df.drop(['Target'],axis = 'columns')\n",
    "Y_train = train_df.Target\n",
    "X_test = test_df.drop(['Target'],axis = 'columns')\n",
    "Y_test = test_df.Target\n"
   ]
  },
  {
   "cell_type": "code",
   "execution_count": 495,
   "id": "b02eafce",
   "metadata": {},
   "outputs": [],
   "source": [
    "X_train = X_train.to_numpy()\n",
    "Y_train = Y_train.to_numpy()\n",
    "X_test = X_test.to_numpy()\n",
    "Y_test = Y_test.to_numpy()\n"
   ]
  },
  {
   "cell_type": "code",
   "execution_count": 496,
   "id": "d5458f52",
   "metadata": {},
   "outputs": [],
   "source": [
    "clf = DecisionTreeClassifier(max_depth = len(X_train))"
   ]
  },
  {
   "cell_type": "code",
   "execution_count": 497,
   "id": "b15e8720",
   "metadata": {},
   "outputs": [
    {
     "data": {
      "text/plain": [
       "DecisionTreeClassifier(max_depth=102)"
      ]
     },
     "execution_count": 497,
     "metadata": {},
     "output_type": "execute_result"
    }
   ],
   "source": [
    "clf.fit(X_train,Y_train)"
   ]
  },
  {
   "cell_type": "code",
   "execution_count": 498,
   "id": "e24ffa92",
   "metadata": {},
   "outputs": [
    {
     "name": "stdout",
     "output_type": "stream",
     "text": [
      "[2 1 0 0 0 0 0 0 0 1 0 0 0 1 0 2 2 2]\n",
      "[2 1 2 2 0 0 0 0 0 0 2 1 1 1 1 1 2 2]\n"
     ]
    }
   ],
   "source": [
    "v = clf.predict(X_test)\n",
    "print(v)\n",
    "print(Y_test)"
   ]
  },
  {
   "cell_type": "code",
   "execution_count": null,
   "id": "c4b96b8e",
   "metadata": {},
   "outputs": [],
   "source": []
  },
  {
   "cell_type": "markdown",
   "id": "1666e7c6",
   "metadata": {},
   "source": [
    "# Tree Classifier for full maximum Depth "
   ]
  },
  {
   "cell_type": "code",
   "execution_count": 499,
   "id": "4e9c705a",
   "metadata": {},
   "outputs": [],
   "source": [
    "clf = DecisionTree(max_depth=100)"
   ]
  },
  {
   "cell_type": "code",
   "execution_count": 500,
   "id": "5691f93a",
   "metadata": {},
   "outputs": [],
   "source": [
    "clf.fit(X_train,Y_train)"
   ]
  },
  {
   "cell_type": "code",
   "execution_count": 501,
   "id": "49c50fba",
   "metadata": {},
   "outputs": [],
   "source": [
    "y_predict = clf.predict(X_test)\n",
    "y_train_predict = clf.predict(X_train)"
   ]
  },
  {
   "cell_type": "code",
   "execution_count": 502,
   "id": "67379a6e",
   "metadata": {},
   "outputs": [
    {
     "name": "stdout",
     "output_type": "stream",
     "text": [
      "[2 1 0 2 0 1 0 0 0 0 0 0 1 1 1 0 1 2]\n",
      "[2 1 2 2 0 0 0 0 0 0 2 1 1 1 1 1 2 2]\n",
      "Confusion Matrix on Test Data \n",
      "\n",
      "[[5 1 0]\n",
      " [2 4 0]\n",
      " [2 1 3]]\n",
      "              precision    recall  f1-score   support\n",
      "\n",
      "           0       0.56      0.83      0.67         6\n",
      "           1       0.67      0.67      0.67         6\n",
      "           2       1.00      0.50      0.67         6\n",
      "\n",
      "    accuracy                           0.67        18\n",
      "   macro avg       0.74      0.67      0.67        18\n",
      "weighted avg       0.74      0.67      0.67        18\n",
      "\n",
      "Confusion Matrix on Train Data \n",
      "\n",
      "[[53  0  0]\n",
      " [ 0 24  0]\n",
      " [ 0  0 25]]\n",
      "              precision    recall  f1-score   support\n",
      "\n",
      "           0       1.00      1.00      1.00        53\n",
      "           1       1.00      1.00      1.00        24\n",
      "           2       1.00      1.00      1.00        25\n",
      "\n",
      "    accuracy                           1.00       102\n",
      "   macro avg       1.00      1.00      1.00       102\n",
      "weighted avg       1.00      1.00      1.00       102\n",
      "\n"
     ]
    }
   ],
   "source": [
    "print(y_predict)\n",
    "print(Y_test)\n",
    "\n",
    "print(\"Confusion Matrix on Test Data \\n\")\n",
    "print(confusion_matrix(Y_test,y_predict))\n",
    "print(classification_report(Y_test,y_predict))\n",
    "print(\"Confusion Matrix on Train Data \\n\")\n",
    "print(confusion_matrix(Y_train,y_train_predict))\n",
    "print(classification_report(Y_train,y_train_predict))"
   ]
  },
  {
   "cell_type": "markdown",
   "id": "762205bd",
   "metadata": {},
   "source": [
    "# Observation Q3_2 "
   ]
  },
  {
   "cell_type": "markdown",
   "id": "dbe02f89",
   "metadata": {},
   "source": [
    "As we can see it is overfitting and thus we only get accuracy of 56% only where as it has 100% accuracy in training dataset"
   ]
  },
  {
   "cell_type": "markdown",
   "id": "b2f13190",
   "metadata": {},
   "source": [
    "# Tree Classifier with different depths"
   ]
  },
  {
   "cell_type": "code",
   "execution_count": 503,
   "id": "4468c2ab",
   "metadata": {},
   "outputs": [
    {
     "name": "stdout",
     "output_type": "stream",
     "text": [
      "The accuracy for depth %d is 1\n",
      "33.33333333333333\n",
      "The training accuracy for depth %d is 1\n",
      "51.9607843137255\n",
      "The accuracy for depth %d is 2\n",
      "27.77777777777778\n",
      "The training accuracy for depth %d is 2\n",
      "65.68627450980392\n",
      "The accuracy for depth %d is 3\n",
      "44.44444444444444\n",
      "The training accuracy for depth %d is 3\n",
      "67.64705882352942\n",
      "The accuracy for depth %d is 4\n",
      "38.88888888888889\n",
      "The training accuracy for depth %d is 4\n",
      "75.49019607843137\n",
      "The accuracy for depth %d is 5\n",
      "44.44444444444444\n",
      "The training accuracy for depth %d is 5\n",
      "79.41176470588235\n",
      "The accuracy for depth %d is 6\n",
      "38.88888888888889\n",
      "The training accuracy for depth %d is 6\n",
      "81.37254901960785\n"
     ]
    }
   ],
   "source": [
    "for i in range(1,7):\n",
    "    clf = DecisionTree(max_depth = i)\n",
    "    clf.fit(X_train,Y_train)\n",
    "    y_predict = clf.predict(X_test)\n",
    "    print(\"The accuracy for depth %d is\",i)\n",
    "    print(accuracy(y_predict,Y_test))\n",
    "    y_p_t = clf.predict(X_train)\n",
    "    print(\"The training accuracy for depth %d is\",i)\n",
    "    print(accuracy(y_p_t,Y_train))"
   ]
  },
  {
   "cell_type": "markdown",
   "id": "89f3bf63",
   "metadata": {},
   "source": [
    "# Observation Q3_3 "
   ]
  },
  {
   "cell_type": "markdown",
   "id": "9f5d3242",
   "metadata": {},
   "source": [
    "Thus from the above observation we can say that depth 4 , depth 5 and depth 6 comes under overfitting"
   ]
  }
 ],
 "metadata": {
  "kernelspec": {
   "display_name": "Python 3 (ipykernel)",
   "language": "python",
   "name": "python3"
  },
  "language_info": {
   "codemirror_mode": {
    "name": "ipython",
    "version": 3
   },
   "file_extension": ".py",
   "mimetype": "text/x-python",
   "name": "python",
   "nbconvert_exporter": "python",
   "pygments_lexer": "ipython3",
   "version": "3.9.13"
  }
 },
 "nbformat": 4,
 "nbformat_minor": 5
}
