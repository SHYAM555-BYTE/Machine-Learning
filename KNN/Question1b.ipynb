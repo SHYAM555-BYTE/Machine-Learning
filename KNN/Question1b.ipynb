{
 "cells": [
  {
   "cell_type": "code",
   "execution_count": 1,
   "id": "8902b877",
   "metadata": {},
   "outputs": [
    {
     "name": "stdout",
     "output_type": "stream",
     "text": [
      "[0.552 2.    1.    3.    5.    1.    1.    3.    1.    2.   ]\n",
      "-9.552\n",
      "9.552\n",
      "10\n",
      "Parameter q = \n",
      "0.5114566284779051\n",
      "Performace p = \n",
      "1.3076477368432202e-06\n"
     ]
    }
   ],
   "source": [
    "# Student ID 1002080520\n",
    "import numpy as np\n",
    "#importing the data in the data_expt variable\n",
    "data_expt = np.loadtxt(\"q1.txt\" , delimiter = \",\")\n",
    "print(data_expt)\n",
    "x = data_expt.size - np.sum(data_expt)\n",
    "print(x)\n",
    "#Solving MLE & Finding the parameter 'q' for the geometric distribution\n",
    "#Performance_Function\n",
    "def performance_function(data_expt, q):\n",
    "    exp1 = np.sum(data_expt)-(data_expt.size)\n",
    "    exp2 = data_expt.size\n",
    "    print(exp1)\n",
    "    print(exp2)\n",
    "    Performance = (1-q)**exp1\n",
    "    Performance = Performance*(q**data_expt.size)\n",
    "    \n",
    "    return Performance\n",
    "\n",
    "def Optimization(data_expt):\n",
    "    q = data_expt.size/np.sum(data_expt) \n",
    "    return q\n",
    "\n",
    "q = Optimization(data_expt)\n",
    "P = performance_function(data_expt, q)\n",
    "print('Parameter q = ') \n",
    "print(q)\n",
    "print('Performace p = ') \n",
    "print(P)\n"
   ]
  },
  {
   "cell_type": "code",
   "execution_count": null,
   "id": "7003f1bf",
   "metadata": {},
   "outputs": [],
   "source": []
  }
 ],
 "metadata": {
  "kernelspec": {
   "display_name": "Python 3 (ipykernel)",
   "language": "python",
   "name": "python3"
  },
  "language_info": {
   "codemirror_mode": {
    "name": "ipython",
    "version": 3
   },
   "file_extension": ".py",
   "mimetype": "text/x-python",
   "name": "python",
   "nbconvert_exporter": "python",
   "pygments_lexer": "ipython3",
   "version": "3.9.12"
  }
 },
 "nbformat": 4,
 "nbformat_minor": 5
}
